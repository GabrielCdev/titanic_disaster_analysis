{
  "nbformat": 4,
  "nbformat_minor": 0,
  "metadata": {
    "colab": {
      "provenance": [],
      "include_colab_link": true
    },
    "kernelspec": {
      "name": "python3",
      "display_name": "Python 3"
    },
    "language_info": {
      "name": "python"
    }
  },
  "cells": [
    {
      "cell_type": "markdown",
      "metadata": {
        "id": "view-in-github",
        "colab_type": "text"
      },
      "source": [
        "<a href=\"https://colab.research.google.com/github/GabrielCdev/titanic_disaster_analysis/blob/main/Titanic.ipynb\" target=\"_parent\"><img src=\"https://colab.research.google.com/assets/colab-badge.svg\" alt=\"Open In Colab\"/></a>"
      ]
    },
    {
      "cell_type": "markdown",
      "source": [
        "#Atividade 01\n",
        "\n",
        "Base para a atividade: https://www.kaggle.com/competitions/titanic/data\n",
        "\n",
        "###....:::: Membros ::::....\n",
        "\n",
        "Áureo Ramos\n",
        "\n",
        "Gabriel Borges Calheiros\n",
        "\n",
        "Izadora de Oliveira Machado Paim\n",
        "\n",
        "Laianne Protásio"
      ],
      "metadata": {
        "id": "EYDKZzbNbN5x"
      }
    },
    {
      "cell_type": "code",
      "execution_count": 1,
      "metadata": {
        "id": "8GQZ1zxRa675"
      },
      "outputs": [],
      "source": [
        "# bibliotecas principais\n",
        "import numpy as np\n",
        "import pandas as pd\n",
        "pd.set_option(\"display.precision\", 2)\n",
        "import matplotlib.pyplot as plt\n",
        "import seaborn as sns\n",
        "from matplotlib.ticker import FuncFormatter"
      ]
    },
    {
      "cell_type": "code",
      "source": [
        "# Carga dos dados .csv\n",
        "titanic_df = pd.read_csv('https://raw.githubusercontent.com/GabrielCdev/titanic_disaster_analysis/main/titanic/train.csv')"
      ],
      "metadata": {
        "id": "WzXgudqGbbxp"
      },
      "execution_count": 2,
      "outputs": []
    },
    {
      "cell_type": "code",
      "source": [
        "#Verificando início dos dados\n",
        "titanic_df.head(5)"
      ],
      "metadata": {
        "colab": {
          "base_uri": "https://localhost:8080/",
          "height": 206
        },
        "id": "tAEHJOrpcIOQ",
        "outputId": "2cad9b5f-7eae-400b-9dee-ba4284cb471e"
      },
      "execution_count": 3,
      "outputs": [
        {
          "output_type": "execute_result",
          "data": {
            "text/plain": [
              "   PassengerId  Survived  Pclass  \\\n",
              "0            1         0       3   \n",
              "1            2         1       1   \n",
              "2            3         1       3   \n",
              "3            4         1       1   \n",
              "4            5         0       3   \n",
              "\n",
              "                                                Name     Sex   Age  SibSp  \\\n",
              "0                            Braund, Mr. Owen Harris    male  22.0      1   \n",
              "1  Cumings, Mrs. John Bradley (Florence Briggs Th...  female  38.0      1   \n",
              "2                             Heikkinen, Miss. Laina  female  26.0      0   \n",
              "3       Futrelle, Mrs. Jacques Heath (Lily May Peel)  female  35.0      1   \n",
              "4                           Allen, Mr. William Henry    male  35.0      0   \n",
              "\n",
              "   Parch            Ticket   Fare Cabin Embarked  \n",
              "0      0         A/5 21171   7.25   NaN        S  \n",
              "1      0          PC 17599  71.28   C85        C  \n",
              "2      0  STON/O2. 3101282   7.92   NaN        S  \n",
              "3      0            113803  53.10  C123        S  \n",
              "4      0            373450   8.05   NaN        S  "
            ],
            "text/html": [
              "\n",
              "  <div id=\"df-d6a9977c-dd83-41e5-9910-05620111ca28\">\n",
              "    <div class=\"colab-df-container\">\n",
              "      <div>\n",
              "<style scoped>\n",
              "    .dataframe tbody tr th:only-of-type {\n",
              "        vertical-align: middle;\n",
              "    }\n",
              "\n",
              "    .dataframe tbody tr th {\n",
              "        vertical-align: top;\n",
              "    }\n",
              "\n",
              "    .dataframe thead th {\n",
              "        text-align: right;\n",
              "    }\n",
              "</style>\n",
              "<table border=\"1\" class=\"dataframe\">\n",
              "  <thead>\n",
              "    <tr style=\"text-align: right;\">\n",
              "      <th></th>\n",
              "      <th>PassengerId</th>\n",
              "      <th>Survived</th>\n",
              "      <th>Pclass</th>\n",
              "      <th>Name</th>\n",
              "      <th>Sex</th>\n",
              "      <th>Age</th>\n",
              "      <th>SibSp</th>\n",
              "      <th>Parch</th>\n",
              "      <th>Ticket</th>\n",
              "      <th>Fare</th>\n",
              "      <th>Cabin</th>\n",
              "      <th>Embarked</th>\n",
              "    </tr>\n",
              "  </thead>\n",
              "  <tbody>\n",
              "    <tr>\n",
              "      <th>0</th>\n",
              "      <td>1</td>\n",
              "      <td>0</td>\n",
              "      <td>3</td>\n",
              "      <td>Braund, Mr. Owen Harris</td>\n",
              "      <td>male</td>\n",
              "      <td>22.0</td>\n",
              "      <td>1</td>\n",
              "      <td>0</td>\n",
              "      <td>A/5 21171</td>\n",
              "      <td>7.25</td>\n",
              "      <td>NaN</td>\n",
              "      <td>S</td>\n",
              "    </tr>\n",
              "    <tr>\n",
              "      <th>1</th>\n",
              "      <td>2</td>\n",
              "      <td>1</td>\n",
              "      <td>1</td>\n",
              "      <td>Cumings, Mrs. John Bradley (Florence Briggs Th...</td>\n",
              "      <td>female</td>\n",
              "      <td>38.0</td>\n",
              "      <td>1</td>\n",
              "      <td>0</td>\n",
              "      <td>PC 17599</td>\n",
              "      <td>71.28</td>\n",
              "      <td>C85</td>\n",
              "      <td>C</td>\n",
              "    </tr>\n",
              "    <tr>\n",
              "      <th>2</th>\n",
              "      <td>3</td>\n",
              "      <td>1</td>\n",
              "      <td>3</td>\n",
              "      <td>Heikkinen, Miss. Laina</td>\n",
              "      <td>female</td>\n",
              "      <td>26.0</td>\n",
              "      <td>0</td>\n",
              "      <td>0</td>\n",
              "      <td>STON/O2. 3101282</td>\n",
              "      <td>7.92</td>\n",
              "      <td>NaN</td>\n",
              "      <td>S</td>\n",
              "    </tr>\n",
              "    <tr>\n",
              "      <th>3</th>\n",
              "      <td>4</td>\n",
              "      <td>1</td>\n",
              "      <td>1</td>\n",
              "      <td>Futrelle, Mrs. Jacques Heath (Lily May Peel)</td>\n",
              "      <td>female</td>\n",
              "      <td>35.0</td>\n",
              "      <td>1</td>\n",
              "      <td>0</td>\n",
              "      <td>113803</td>\n",
              "      <td>53.10</td>\n",
              "      <td>C123</td>\n",
              "      <td>S</td>\n",
              "    </tr>\n",
              "    <tr>\n",
              "      <th>4</th>\n",
              "      <td>5</td>\n",
              "      <td>0</td>\n",
              "      <td>3</td>\n",
              "      <td>Allen, Mr. William Henry</td>\n",
              "      <td>male</td>\n",
              "      <td>35.0</td>\n",
              "      <td>0</td>\n",
              "      <td>0</td>\n",
              "      <td>373450</td>\n",
              "      <td>8.05</td>\n",
              "      <td>NaN</td>\n",
              "      <td>S</td>\n",
              "    </tr>\n",
              "  </tbody>\n",
              "</table>\n",
              "</div>\n",
              "      <button class=\"colab-df-convert\" onclick=\"convertToInteractive('df-d6a9977c-dd83-41e5-9910-05620111ca28')\"\n",
              "              title=\"Convert this dataframe to an interactive table.\"\n",
              "              style=\"display:none;\">\n",
              "        \n",
              "  <svg xmlns=\"http://www.w3.org/2000/svg\" height=\"24px\"viewBox=\"0 0 24 24\"\n",
              "       width=\"24px\">\n",
              "    <path d=\"M0 0h24v24H0V0z\" fill=\"none\"/>\n",
              "    <path d=\"M18.56 5.44l.94 2.06.94-2.06 2.06-.94-2.06-.94-.94-2.06-.94 2.06-2.06.94zm-11 1L8.5 8.5l.94-2.06 2.06-.94-2.06-.94L8.5 2.5l-.94 2.06-2.06.94zm10 10l.94 2.06.94-2.06 2.06-.94-2.06-.94-.94-2.06-.94 2.06-2.06.94z\"/><path d=\"M17.41 7.96l-1.37-1.37c-.4-.4-.92-.59-1.43-.59-.52 0-1.04.2-1.43.59L10.3 9.45l-7.72 7.72c-.78.78-.78 2.05 0 2.83L4 21.41c.39.39.9.59 1.41.59.51 0 1.02-.2 1.41-.59l7.78-7.78 2.81-2.81c.8-.78.8-2.07 0-2.86zM5.41 20L4 18.59l7.72-7.72 1.47 1.35L5.41 20z\"/>\n",
              "  </svg>\n",
              "      </button>\n",
              "      \n",
              "  <style>\n",
              "    .colab-df-container {\n",
              "      display:flex;\n",
              "      flex-wrap:wrap;\n",
              "      gap: 12px;\n",
              "    }\n",
              "\n",
              "    .colab-df-convert {\n",
              "      background-color: #E8F0FE;\n",
              "      border: none;\n",
              "      border-radius: 50%;\n",
              "      cursor: pointer;\n",
              "      display: none;\n",
              "      fill: #1967D2;\n",
              "      height: 32px;\n",
              "      padding: 0 0 0 0;\n",
              "      width: 32px;\n",
              "    }\n",
              "\n",
              "    .colab-df-convert:hover {\n",
              "      background-color: #E2EBFA;\n",
              "      box-shadow: 0px 1px 2px rgba(60, 64, 67, 0.3), 0px 1px 3px 1px rgba(60, 64, 67, 0.15);\n",
              "      fill: #174EA6;\n",
              "    }\n",
              "\n",
              "    [theme=dark] .colab-df-convert {\n",
              "      background-color: #3B4455;\n",
              "      fill: #D2E3FC;\n",
              "    }\n",
              "\n",
              "    [theme=dark] .colab-df-convert:hover {\n",
              "      background-color: #434B5C;\n",
              "      box-shadow: 0px 1px 3px 1px rgba(0, 0, 0, 0.15);\n",
              "      filter: drop-shadow(0px 1px 2px rgba(0, 0, 0, 0.3));\n",
              "      fill: #FFFFFF;\n",
              "    }\n",
              "  </style>\n",
              "\n",
              "      <script>\n",
              "        const buttonEl =\n",
              "          document.querySelector('#df-d6a9977c-dd83-41e5-9910-05620111ca28 button.colab-df-convert');\n",
              "        buttonEl.style.display =\n",
              "          google.colab.kernel.accessAllowed ? 'block' : 'none';\n",
              "\n",
              "        async function convertToInteractive(key) {\n",
              "          const element = document.querySelector('#df-d6a9977c-dd83-41e5-9910-05620111ca28');\n",
              "          const dataTable =\n",
              "            await google.colab.kernel.invokeFunction('convertToInteractive',\n",
              "                                                     [key], {});\n",
              "          if (!dataTable) return;\n",
              "\n",
              "          const docLinkHtml = 'Like what you see? Visit the ' +\n",
              "            '<a target=\"_blank\" href=https://colab.research.google.com/notebooks/data_table.ipynb>data table notebook</a>'\n",
              "            + ' to learn more about interactive tables.';\n",
              "          element.innerHTML = '';\n",
              "          dataTable['output_type'] = 'display_data';\n",
              "          await google.colab.output.renderOutput(dataTable, element);\n",
              "          const docLink = document.createElement('div');\n",
              "          docLink.innerHTML = docLinkHtml;\n",
              "          element.appendChild(docLink);\n",
              "        }\n",
              "      </script>\n",
              "    </div>\n",
              "  </div>\n",
              "  "
            ]
          },
          "metadata": {},
          "execution_count": 3
        }
      ]
    },
    {
      "cell_type": "code",
      "source": [
        "#Verificando final dos dados\n",
        "titanic_df.tail(5)"
      ],
      "metadata": {
        "colab": {
          "base_uri": "https://localhost:8080/",
          "height": 206
        },
        "id": "gZ9VEO9NcMsg",
        "outputId": "a85464f0-27dd-4cd9-d3d7-5666f26d94fb"
      },
      "execution_count": 4,
      "outputs": [
        {
          "output_type": "execute_result",
          "data": {
            "text/plain": [
              "     PassengerId  Survived  Pclass                                      Name  \\\n",
              "886          887         0       2                     Montvila, Rev. Juozas   \n",
              "887          888         1       1              Graham, Miss. Margaret Edith   \n",
              "888          889         0       3  Johnston, Miss. Catherine Helen \"Carrie\"   \n",
              "889          890         1       1                     Behr, Mr. Karl Howell   \n",
              "890          891         0       3                       Dooley, Mr. Patrick   \n",
              "\n",
              "        Sex   Age  SibSp  Parch      Ticket   Fare Cabin Embarked  \n",
              "886    male  27.0      0      0      211536  13.00   NaN        S  \n",
              "887  female  19.0      0      0      112053  30.00   B42        S  \n",
              "888  female   NaN      1      2  W./C. 6607  23.45   NaN        S  \n",
              "889    male  26.0      0      0      111369  30.00  C148        C  \n",
              "890    male  32.0      0      0      370376   7.75   NaN        Q  "
            ],
            "text/html": [
              "\n",
              "  <div id=\"df-c27d0ba4-899e-4269-898e-73144d212ecf\">\n",
              "    <div class=\"colab-df-container\">\n",
              "      <div>\n",
              "<style scoped>\n",
              "    .dataframe tbody tr th:only-of-type {\n",
              "        vertical-align: middle;\n",
              "    }\n",
              "\n",
              "    .dataframe tbody tr th {\n",
              "        vertical-align: top;\n",
              "    }\n",
              "\n",
              "    .dataframe thead th {\n",
              "        text-align: right;\n",
              "    }\n",
              "</style>\n",
              "<table border=\"1\" class=\"dataframe\">\n",
              "  <thead>\n",
              "    <tr style=\"text-align: right;\">\n",
              "      <th></th>\n",
              "      <th>PassengerId</th>\n",
              "      <th>Survived</th>\n",
              "      <th>Pclass</th>\n",
              "      <th>Name</th>\n",
              "      <th>Sex</th>\n",
              "      <th>Age</th>\n",
              "      <th>SibSp</th>\n",
              "      <th>Parch</th>\n",
              "      <th>Ticket</th>\n",
              "      <th>Fare</th>\n",
              "      <th>Cabin</th>\n",
              "      <th>Embarked</th>\n",
              "    </tr>\n",
              "  </thead>\n",
              "  <tbody>\n",
              "    <tr>\n",
              "      <th>886</th>\n",
              "      <td>887</td>\n",
              "      <td>0</td>\n",
              "      <td>2</td>\n",
              "      <td>Montvila, Rev. Juozas</td>\n",
              "      <td>male</td>\n",
              "      <td>27.0</td>\n",
              "      <td>0</td>\n",
              "      <td>0</td>\n",
              "      <td>211536</td>\n",
              "      <td>13.00</td>\n",
              "      <td>NaN</td>\n",
              "      <td>S</td>\n",
              "    </tr>\n",
              "    <tr>\n",
              "      <th>887</th>\n",
              "      <td>888</td>\n",
              "      <td>1</td>\n",
              "      <td>1</td>\n",
              "      <td>Graham, Miss. Margaret Edith</td>\n",
              "      <td>female</td>\n",
              "      <td>19.0</td>\n",
              "      <td>0</td>\n",
              "      <td>0</td>\n",
              "      <td>112053</td>\n",
              "      <td>30.00</td>\n",
              "      <td>B42</td>\n",
              "      <td>S</td>\n",
              "    </tr>\n",
              "    <tr>\n",
              "      <th>888</th>\n",
              "      <td>889</td>\n",
              "      <td>0</td>\n",
              "      <td>3</td>\n",
              "      <td>Johnston, Miss. Catherine Helen \"Carrie\"</td>\n",
              "      <td>female</td>\n",
              "      <td>NaN</td>\n",
              "      <td>1</td>\n",
              "      <td>2</td>\n",
              "      <td>W./C. 6607</td>\n",
              "      <td>23.45</td>\n",
              "      <td>NaN</td>\n",
              "      <td>S</td>\n",
              "    </tr>\n",
              "    <tr>\n",
              "      <th>889</th>\n",
              "      <td>890</td>\n",
              "      <td>1</td>\n",
              "      <td>1</td>\n",
              "      <td>Behr, Mr. Karl Howell</td>\n",
              "      <td>male</td>\n",
              "      <td>26.0</td>\n",
              "      <td>0</td>\n",
              "      <td>0</td>\n",
              "      <td>111369</td>\n",
              "      <td>30.00</td>\n",
              "      <td>C148</td>\n",
              "      <td>C</td>\n",
              "    </tr>\n",
              "    <tr>\n",
              "      <th>890</th>\n",
              "      <td>891</td>\n",
              "      <td>0</td>\n",
              "      <td>3</td>\n",
              "      <td>Dooley, Mr. Patrick</td>\n",
              "      <td>male</td>\n",
              "      <td>32.0</td>\n",
              "      <td>0</td>\n",
              "      <td>0</td>\n",
              "      <td>370376</td>\n",
              "      <td>7.75</td>\n",
              "      <td>NaN</td>\n",
              "      <td>Q</td>\n",
              "    </tr>\n",
              "  </tbody>\n",
              "</table>\n",
              "</div>\n",
              "      <button class=\"colab-df-convert\" onclick=\"convertToInteractive('df-c27d0ba4-899e-4269-898e-73144d212ecf')\"\n",
              "              title=\"Convert this dataframe to an interactive table.\"\n",
              "              style=\"display:none;\">\n",
              "        \n",
              "  <svg xmlns=\"http://www.w3.org/2000/svg\" height=\"24px\"viewBox=\"0 0 24 24\"\n",
              "       width=\"24px\">\n",
              "    <path d=\"M0 0h24v24H0V0z\" fill=\"none\"/>\n",
              "    <path d=\"M18.56 5.44l.94 2.06.94-2.06 2.06-.94-2.06-.94-.94-2.06-.94 2.06-2.06.94zm-11 1L8.5 8.5l.94-2.06 2.06-.94-2.06-.94L8.5 2.5l-.94 2.06-2.06.94zm10 10l.94 2.06.94-2.06 2.06-.94-2.06-.94-.94-2.06-.94 2.06-2.06.94z\"/><path d=\"M17.41 7.96l-1.37-1.37c-.4-.4-.92-.59-1.43-.59-.52 0-1.04.2-1.43.59L10.3 9.45l-7.72 7.72c-.78.78-.78 2.05 0 2.83L4 21.41c.39.39.9.59 1.41.59.51 0 1.02-.2 1.41-.59l7.78-7.78 2.81-2.81c.8-.78.8-2.07 0-2.86zM5.41 20L4 18.59l7.72-7.72 1.47 1.35L5.41 20z\"/>\n",
              "  </svg>\n",
              "      </button>\n",
              "      \n",
              "  <style>\n",
              "    .colab-df-container {\n",
              "      display:flex;\n",
              "      flex-wrap:wrap;\n",
              "      gap: 12px;\n",
              "    }\n",
              "\n",
              "    .colab-df-convert {\n",
              "      background-color: #E8F0FE;\n",
              "      border: none;\n",
              "      border-radius: 50%;\n",
              "      cursor: pointer;\n",
              "      display: none;\n",
              "      fill: #1967D2;\n",
              "      height: 32px;\n",
              "      padding: 0 0 0 0;\n",
              "      width: 32px;\n",
              "    }\n",
              "\n",
              "    .colab-df-convert:hover {\n",
              "      background-color: #E2EBFA;\n",
              "      box-shadow: 0px 1px 2px rgba(60, 64, 67, 0.3), 0px 1px 3px 1px rgba(60, 64, 67, 0.15);\n",
              "      fill: #174EA6;\n",
              "    }\n",
              "\n",
              "    [theme=dark] .colab-df-convert {\n",
              "      background-color: #3B4455;\n",
              "      fill: #D2E3FC;\n",
              "    }\n",
              "\n",
              "    [theme=dark] .colab-df-convert:hover {\n",
              "      background-color: #434B5C;\n",
              "      box-shadow: 0px 1px 3px 1px rgba(0, 0, 0, 0.15);\n",
              "      filter: drop-shadow(0px 1px 2px rgba(0, 0, 0, 0.3));\n",
              "      fill: #FFFFFF;\n",
              "    }\n",
              "  </style>\n",
              "\n",
              "      <script>\n",
              "        const buttonEl =\n",
              "          document.querySelector('#df-c27d0ba4-899e-4269-898e-73144d212ecf button.colab-df-convert');\n",
              "        buttonEl.style.display =\n",
              "          google.colab.kernel.accessAllowed ? 'block' : 'none';\n",
              "\n",
              "        async function convertToInteractive(key) {\n",
              "          const element = document.querySelector('#df-c27d0ba4-899e-4269-898e-73144d212ecf');\n",
              "          const dataTable =\n",
              "            await google.colab.kernel.invokeFunction('convertToInteractive',\n",
              "                                                     [key], {});\n",
              "          if (!dataTable) return;\n",
              "\n",
              "          const docLinkHtml = 'Like what you see? Visit the ' +\n",
              "            '<a target=\"_blank\" href=https://colab.research.google.com/notebooks/data_table.ipynb>data table notebook</a>'\n",
              "            + ' to learn more about interactive tables.';\n",
              "          element.innerHTML = '';\n",
              "          dataTable['output_type'] = 'display_data';\n",
              "          await google.colab.output.renderOutput(dataTable, element);\n",
              "          const docLink = document.createElement('div');\n",
              "          docLink.innerHTML = docLinkHtml;\n",
              "          element.appendChild(docLink);\n",
              "        }\n",
              "      </script>\n",
              "    </div>\n",
              "  </div>\n",
              "  "
            ]
          },
          "metadata": {},
          "execution_count": 4
        }
      ]
    },
    {
      "cell_type": "markdown",
      "source": [
        "##Identificação de variáveis"
      ],
      "metadata": {
        "id": "DhKyXMElg-YF"
      }
    },
    {
      "cell_type": "markdown",
      "source": [
        "survival - Survival (0 = No; 1 = Yes)\n",
        "\n",
        "class - Passenger Class (1 = 1st; 2 = 2nd; 3 = 3rd)\n",
        "\n",
        "name - Name\n",
        "\n",
        "sex - Sex\n",
        "\n",
        "age - Age\n",
        "\n",
        "sibsp - Number of Siblings/Spouses Aboard\n",
        "\n",
        "parch - Number of Parents/Children Aboard\n",
        "\n",
        "ticket - Ticket Number\n",
        "\n",
        "fare - Passenger Fare\n",
        "\n",
        "cabin - Cabin\n",
        "\n",
        "embarked - Port of Embarkation (C = Cherbourg; Q = Queenstown; S = Southampton)\n",
        "\n",
        "boat - Lifeboat (if survived)\n",
        "\n",
        "body - Body number (if did not survive and body was recovered)"
      ],
      "metadata": {
        "id": "nCEKH4J4dDuH"
      }
    },
    {
      "cell_type": "code",
      "source": [
        "titanic_df.info()"
      ],
      "metadata": {
        "colab": {
          "base_uri": "https://localhost:8080/"
        },
        "id": "-cC9ItOtcZEA",
        "outputId": "bce1fab4-4be6-4e80-ca2e-0a632cfeb6b8"
      },
      "execution_count": 5,
      "outputs": [
        {
          "output_type": "stream",
          "name": "stdout",
          "text": [
            "<class 'pandas.core.frame.DataFrame'>\n",
            "RangeIndex: 891 entries, 0 to 890\n",
            "Data columns (total 12 columns):\n",
            " #   Column       Non-Null Count  Dtype  \n",
            "---  ------       --------------  -----  \n",
            " 0   PassengerId  891 non-null    int64  \n",
            " 1   Survived     891 non-null    int64  \n",
            " 2   Pclass       891 non-null    int64  \n",
            " 3   Name         891 non-null    object \n",
            " 4   Sex          891 non-null    object \n",
            " 5   Age          714 non-null    float64\n",
            " 6   SibSp        891 non-null    int64  \n",
            " 7   Parch        891 non-null    int64  \n",
            " 8   Ticket       891 non-null    object \n",
            " 9   Fare         891 non-null    float64\n",
            " 10  Cabin        204 non-null    object \n",
            " 11  Embarked     889 non-null    object \n",
            "dtypes: float64(2), int64(5), object(5)\n",
            "memory usage: 83.7+ KB\n"
          ]
        }
      ]
    },
    {
      "cell_type": "markdown",
      "source": [
        "##Elementos contidos nos atributos"
      ],
      "metadata": {
        "id": "CV_zewA-h2jd"
      }
    },
    {
      "cell_type": "code",
      "source": [
        "titanic_df['Cabin'].value_counts()"
      ],
      "metadata": {
        "colab": {
          "base_uri": "https://localhost:8080/"
        },
        "id": "x5habRJHpIt7",
        "outputId": "6ff13e76-f102-46a8-95b3-1a99e2710ac7"
      },
      "execution_count": 6,
      "outputs": [
        {
          "output_type": "execute_result",
          "data": {
            "text/plain": [
              "B96 B98        4\n",
              "G6             4\n",
              "C23 C25 C27    4\n",
              "C22 C26        3\n",
              "F33            3\n",
              "              ..\n",
              "E34            1\n",
              "C7             1\n",
              "C54            1\n",
              "E36            1\n",
              "C148           1\n",
              "Name: Cabin, Length: 147, dtype: int64"
            ]
          },
          "metadata": {},
          "execution_count": 6
        }
      ]
    },
    {
      "cell_type": "code",
      "source": [
        "titanic_df.Cabin.unique()"
      ],
      "metadata": {
        "colab": {
          "base_uri": "https://localhost:8080/"
        },
        "id": "Q_TWX0Gnfx62",
        "outputId": "8800f79d-67d2-4717-a0c5-cf83fb85c457"
      },
      "execution_count": 7,
      "outputs": [
        {
          "output_type": "execute_result",
          "data": {
            "text/plain": [
              "array([nan, 'C85', 'C123', 'E46', 'G6', 'C103', 'D56', 'A6',\n",
              "       'C23 C25 C27', 'B78', 'D33', 'B30', 'C52', 'B28', 'C83', 'F33',\n",
              "       'F G73', 'E31', 'A5', 'D10 D12', 'D26', 'C110', 'B58 B60', 'E101',\n",
              "       'F E69', 'D47', 'B86', 'F2', 'C2', 'E33', 'B19', 'A7', 'C49', 'F4',\n",
              "       'A32', 'B4', 'B80', 'A31', 'D36', 'D15', 'C93', 'C78', 'D35',\n",
              "       'C87', 'B77', 'E67', 'B94', 'C125', 'C99', 'C118', 'D7', 'A19',\n",
              "       'B49', 'D', 'C22 C26', 'C106', 'C65', 'E36', 'C54',\n",
              "       'B57 B59 B63 B66', 'C7', 'E34', 'C32', 'B18', 'C124', 'C91', 'E40',\n",
              "       'T', 'C128', 'D37', 'B35', 'E50', 'C82', 'B96 B98', 'E10', 'E44',\n",
              "       'A34', 'C104', 'C111', 'C92', 'E38', 'D21', 'E12', 'E63', 'A14',\n",
              "       'B37', 'C30', 'D20', 'B79', 'E25', 'D46', 'B73', 'C95', 'B38',\n",
              "       'B39', 'B22', 'C86', 'C70', 'A16', 'C101', 'C68', 'A10', 'E68',\n",
              "       'B41', 'A20', 'D19', 'D50', 'D9', 'A23', 'B50', 'A26', 'D48',\n",
              "       'E58', 'C126', 'B71', 'B51 B53 B55', 'D49', 'B5', 'B20', 'F G63',\n",
              "       'C62 C64', 'E24', 'C90', 'C45', 'E8', 'B101', 'D45', 'C46', 'D30',\n",
              "       'E121', 'D11', 'E77', 'F38', 'B3', 'D6', 'B82 B84', 'D17', 'A36',\n",
              "       'B102', 'B69', 'E49', 'C47', 'D28', 'E17', 'A24', 'C50', 'B42',\n",
              "       'C148'], dtype=object)"
            ]
          },
          "metadata": {},
          "execution_count": 7
        }
      ]
    },
    {
      "cell_type": "code",
      "source": [
        "titanic_df.Age.unique()"
      ],
      "metadata": {
        "colab": {
          "base_uri": "https://localhost:8080/"
        },
        "id": "fptugK_egFlm",
        "outputId": "f9dfee7d-2936-400b-eeb3-d913573183fe"
      },
      "execution_count": 8,
      "outputs": [
        {
          "output_type": "execute_result",
          "data": {
            "text/plain": [
              "array([22.  , 38.  , 26.  , 35.  ,   nan, 54.  ,  2.  , 27.  , 14.  ,\n",
              "        4.  , 58.  , 20.  , 39.  , 55.  , 31.  , 34.  , 15.  , 28.  ,\n",
              "        8.  , 19.  , 40.  , 66.  , 42.  , 21.  , 18.  ,  3.  ,  7.  ,\n",
              "       49.  , 29.  , 65.  , 28.5 ,  5.  , 11.  , 45.  , 17.  , 32.  ,\n",
              "       16.  , 25.  ,  0.83, 30.  , 33.  , 23.  , 24.  , 46.  , 59.  ,\n",
              "       71.  , 37.  , 47.  , 14.5 , 70.5 , 32.5 , 12.  ,  9.  , 36.5 ,\n",
              "       51.  , 55.5 , 40.5 , 44.  ,  1.  , 61.  , 56.  , 50.  , 36.  ,\n",
              "       45.5 , 20.5 , 62.  , 41.  , 52.  , 63.  , 23.5 ,  0.92, 43.  ,\n",
              "       60.  , 10.  , 64.  , 13.  , 48.  ,  0.75, 53.  , 57.  , 80.  ,\n",
              "       70.  , 24.5 ,  6.  ,  0.67, 30.5 ,  0.42, 34.5 , 74.  ])"
            ]
          },
          "metadata": {},
          "execution_count": 8
        }
      ]
    },
    {
      "cell_type": "code",
      "source": [
        "titanic_df.Survived.unique()"
      ],
      "metadata": {
        "id": "IRE1biHegRGd",
        "colab": {
          "base_uri": "https://localhost:8080/"
        },
        "outputId": "405d57a9-991c-4f08-d2e8-16471acf2d2a"
      },
      "execution_count": 9,
      "outputs": [
        {
          "output_type": "execute_result",
          "data": {
            "text/plain": [
              "array([0, 1])"
            ]
          },
          "metadata": {},
          "execution_count": 9
        }
      ]
    },
    {
      "cell_type": "code",
      "source": [
        "titanic_df.Sex.unique()"
      ],
      "metadata": {
        "id": "ScrfHvLzgZgd",
        "colab": {
          "base_uri": "https://localhost:8080/"
        },
        "outputId": "6a1127b6-e3af-40c6-9874-1e33f1613751"
      },
      "execution_count": 10,
      "outputs": [
        {
          "output_type": "execute_result",
          "data": {
            "text/plain": [
              "array(['male', 'female'], dtype=object)"
            ]
          },
          "metadata": {},
          "execution_count": 10
        }
      ]
    },
    {
      "cell_type": "code",
      "source": [
        "titanic_df.Fare.unique()"
      ],
      "metadata": {
        "id": "7k9z48IPTAIJ",
        "colab": {
          "base_uri": "https://localhost:8080/"
        },
        "outputId": "61d89acb-1ec1-415e-da1c-e7a7ea5f3c9b"
      },
      "execution_count": 11,
      "outputs": [
        {
          "output_type": "execute_result",
          "data": {
            "text/plain": [
              "array([  7.25  ,  71.2833,   7.925 ,  53.1   ,   8.05  ,   8.4583,\n",
              "        51.8625,  21.075 ,  11.1333,  30.0708,  16.7   ,  26.55  ,\n",
              "        31.275 ,   7.8542,  16.    ,  29.125 ,  13.    ,  18.    ,\n",
              "         7.225 ,  26.    ,   8.0292,  35.5   ,  31.3875, 263.    ,\n",
              "         7.8792,   7.8958,  27.7208, 146.5208,   7.75  ,  10.5   ,\n",
              "        82.1708,  52.    ,   7.2292,  11.2417,   9.475 ,  21.    ,\n",
              "        41.5792,  15.5   ,  21.6792,  17.8   ,  39.6875,   7.8   ,\n",
              "        76.7292,  61.9792,  27.75  ,  46.9   ,  80.    ,  83.475 ,\n",
              "        27.9   ,  15.2458,   8.1583,   8.6625,  73.5   ,  14.4542,\n",
              "        56.4958,   7.65  ,  29.    ,  12.475 ,   9.    ,   9.5   ,\n",
              "         7.7875,  47.1   ,  15.85  ,  34.375 ,  61.175 ,  20.575 ,\n",
              "        34.6542,  63.3583,  23.    ,  77.2875,   8.6542,   7.775 ,\n",
              "        24.15  ,   9.825 ,  14.4583, 247.5208,   7.1417,  22.3583,\n",
              "         6.975 ,   7.05  ,  14.5   ,  15.0458,  26.2833,   9.2167,\n",
              "        79.2   ,   6.75  ,  11.5   ,  36.75  ,   7.7958,  12.525 ,\n",
              "        66.6   ,   7.3125,  61.3792,   7.7333,  69.55  ,  16.1   ,\n",
              "        15.75  ,  20.525 ,  55.    ,  25.925 ,  33.5   ,  30.6958,\n",
              "        25.4667,  28.7125,   0.    ,  15.05  ,  39.    ,  22.025 ,\n",
              "        50.    ,   8.4042,   6.4958,  10.4625,  18.7875,  31.    ,\n",
              "       113.275 ,  27.    ,  76.2917,  90.    ,   9.35  ,  13.5   ,\n",
              "         7.55  ,  26.25  ,  12.275 ,   7.125 ,  52.5542,  20.2125,\n",
              "        86.5   , 512.3292,  79.65  , 153.4625, 135.6333,  19.5   ,\n",
              "        29.7   ,  77.9583,  20.25  ,  78.85  ,  91.0792,  12.875 ,\n",
              "         8.85  , 151.55  ,  30.5   ,  23.25  ,  12.35  , 110.8833,\n",
              "       108.9   ,  24.    ,  56.9292,  83.1583, 262.375 ,  14.    ,\n",
              "       164.8667, 134.5   ,   6.2375,  57.9792,  28.5   , 133.65  ,\n",
              "        15.9   ,   9.225 ,  35.    ,  75.25  ,  69.3   ,  55.4417,\n",
              "       211.5   ,   4.0125, 227.525 ,  15.7417,   7.7292,  12.    ,\n",
              "       120.    ,  12.65  ,  18.75  ,   6.8583,  32.5   ,   7.875 ,\n",
              "        14.4   ,  55.9   ,   8.1125,  81.8583,  19.2583,  19.9667,\n",
              "        89.1042,  38.5   ,   7.725 ,  13.7917,   9.8375,   7.0458,\n",
              "         7.5208,  12.2875,   9.5875,  49.5042,  78.2667,  15.1   ,\n",
              "         7.6292,  22.525 ,  26.2875,  59.4   ,   7.4958,  34.0208,\n",
              "        93.5   , 221.7792, 106.425 ,  49.5   ,  71.    ,  13.8625,\n",
              "         7.8292,  39.6   ,  17.4   ,  51.4792,  26.3875,  30.    ,\n",
              "        40.125 ,   8.7125,  15.    ,  33.    ,  42.4   ,  15.55  ,\n",
              "        65.    ,  32.3208,   7.0542,   8.4333,  25.5875,   9.8417,\n",
              "         8.1375,  10.1708, 211.3375,  57.    ,  13.4167,   7.7417,\n",
              "         9.4833,   7.7375,   8.3625,  23.45  ,  25.9292,   8.6833,\n",
              "         8.5167,   7.8875,  37.0042,   6.45  ,   6.95  ,   8.3   ,\n",
              "         6.4375,  39.4   ,  14.1083,  13.8583,  50.4958,   5.    ,\n",
              "         9.8458,  10.5167])"
            ]
          },
          "metadata": {},
          "execution_count": 11
        }
      ]
    },
    {
      "cell_type": "code",
      "source": [
        "titanic_df.Parch.unique()"
      ],
      "metadata": {
        "id": "phrDjSRKUIyQ",
        "colab": {
          "base_uri": "https://localhost:8080/"
        },
        "outputId": "4e61f894-dbda-4601-bc31-fd4c713bb3f5"
      },
      "execution_count": 12,
      "outputs": [
        {
          "output_type": "execute_result",
          "data": {
            "text/plain": [
              "array([0, 1, 2, 5, 3, 4, 6])"
            ]
          },
          "metadata": {},
          "execution_count": 12
        }
      ]
    },
    {
      "cell_type": "code",
      "source": [
        "titanic_df.Pclass.unique()"
      ],
      "metadata": {
        "id": "jDid2t3NUTsF",
        "colab": {
          "base_uri": "https://localhost:8080/"
        },
        "outputId": "51268b10-2c7a-4d29-f864-92ee7c16e806"
      },
      "execution_count": 13,
      "outputs": [
        {
          "output_type": "execute_result",
          "data": {
            "text/plain": [
              "array([3, 1, 2])"
            ]
          },
          "metadata": {},
          "execution_count": 13
        }
      ]
    },
    {
      "cell_type": "code",
      "source": [
        "titanic_df.SibSp.unique()"
      ],
      "metadata": {
        "id": "YSQjo54uUfcS",
        "colab": {
          "base_uri": "https://localhost:8080/"
        },
        "outputId": "21bdfc18-03ca-47a3-9acc-3d598bbe988f"
      },
      "execution_count": 14,
      "outputs": [
        {
          "output_type": "execute_result",
          "data": {
            "text/plain": [
              "array([1, 0, 3, 4, 2, 5, 8])"
            ]
          },
          "metadata": {},
          "execution_count": 14
        }
      ]
    },
    {
      "cell_type": "code",
      "source": [
        "titanic_df.Ticket.unique()"
      ],
      "metadata": {
        "id": "mEVVr26qUqtz",
        "colab": {
          "base_uri": "https://localhost:8080/"
        },
        "outputId": "a79afaba-386b-4512-adb4-1aeb3f69ab2f"
      },
      "execution_count": 15,
      "outputs": [
        {
          "output_type": "execute_result",
          "data": {
            "text/plain": [
              "array(['A/5 21171', 'PC 17599', 'STON/O2. 3101282', '113803', '373450',\n",
              "       '330877', '17463', '349909', '347742', '237736', 'PP 9549',\n",
              "       '113783', 'A/5. 2151', '347082', '350406', '248706', '382652',\n",
              "       '244373', '345763', '2649', '239865', '248698', '330923', '113788',\n",
              "       '347077', '2631', '19950', '330959', '349216', 'PC 17601',\n",
              "       'PC 17569', '335677', 'C.A. 24579', 'PC 17604', '113789', '2677',\n",
              "       'A./5. 2152', '345764', '2651', '7546', '11668', '349253',\n",
              "       'SC/Paris 2123', '330958', 'S.C./A.4. 23567', '370371', '14311',\n",
              "       '2662', '349237', '3101295', 'A/4. 39886', 'PC 17572', '2926',\n",
              "       '113509', '19947', 'C.A. 31026', '2697', 'C.A. 34651', 'CA 2144',\n",
              "       '2669', '113572', '36973', '347088', 'PC 17605', '2661',\n",
              "       'C.A. 29395', 'S.P. 3464', '3101281', '315151', 'C.A. 33111',\n",
              "       'S.O.C. 14879', '2680', '1601', '348123', '349208', '374746',\n",
              "       '248738', '364516', '345767', '345779', '330932', '113059',\n",
              "       'SO/C 14885', '3101278', 'W./C. 6608', 'SOTON/OQ 392086', '343275',\n",
              "       '343276', '347466', 'W.E.P. 5734', 'C.A. 2315', '364500', '374910',\n",
              "       'PC 17754', 'PC 17759', '231919', '244367', '349245', '349215',\n",
              "       '35281', '7540', '3101276', '349207', '343120', '312991', '349249',\n",
              "       '371110', '110465', '2665', '324669', '4136', '2627',\n",
              "       'STON/O 2. 3101294', '370369', 'PC 17558', 'A4. 54510', '27267',\n",
              "       '370372', 'C 17369', '2668', '347061', '349241',\n",
              "       'SOTON/O.Q. 3101307', 'A/5. 3337', '228414', 'C.A. 29178',\n",
              "       'SC/PARIS 2133', '11752', '7534', 'PC 17593', '2678', '347081',\n",
              "       'STON/O2. 3101279', '365222', '231945', 'C.A. 33112', '350043',\n",
              "       '230080', '244310', 'S.O.P. 1166', '113776', 'A.5. 11206',\n",
              "       'A/5. 851', 'Fa 265302', 'PC 17597', '35851', 'SOTON/OQ 392090',\n",
              "       '315037', 'CA. 2343', '371362', 'C.A. 33595', '347068', '315093',\n",
              "       '363291', '113505', 'PC 17318', '111240', 'STON/O 2. 3101280',\n",
              "       '17764', '350404', '4133', 'PC 17595', '250653', 'LINE',\n",
              "       'SC/PARIS 2131', '230136', '315153', '113767', '370365', '111428',\n",
              "       '364849', '349247', '234604', '28424', '350046', 'PC 17610',\n",
              "       '368703', '4579', '370370', '248747', '345770', '3101264', '2628',\n",
              "       'A/5 3540', '347054', '2699', '367231', '112277',\n",
              "       'SOTON/O.Q. 3101311', 'F.C.C. 13528', 'A/5 21174', '250646',\n",
              "       '367229', '35273', 'STON/O2. 3101283', '243847', '11813',\n",
              "       'W/C 14208', 'SOTON/OQ 392089', '220367', '21440', '349234',\n",
              "       '19943', 'PP 4348', 'SW/PP 751', 'A/5 21173', '236171', '347067',\n",
              "       '237442', 'C.A. 29566', 'W./C. 6609', '26707', 'C.A. 31921',\n",
              "       '28665', 'SCO/W 1585', '367230', 'W./C. 14263',\n",
              "       'STON/O 2. 3101275', '2694', '19928', '347071', '250649', '11751',\n",
              "       '244252', '362316', '113514', 'A/5. 3336', '370129', '2650',\n",
              "       'PC 17585', '110152', 'PC 17755', '230433', '384461', '110413',\n",
              "       '112059', '382649', 'C.A. 17248', '347083', 'PC 17582', 'PC 17760',\n",
              "       '113798', '250644', 'PC 17596', '370375', '13502', '347073',\n",
              "       '239853', 'C.A. 2673', '336439', '347464', '345778', 'A/5. 10482',\n",
              "       '113056', '349239', '345774', '349206', '237798', '370373',\n",
              "       '19877', '11967', 'SC/Paris 2163', '349236', '349233', 'PC 17612',\n",
              "       '2693', '113781', '19988', '9234', '367226', '226593', 'A/5 2466',\n",
              "       '17421', 'PC 17758', 'P/PP 3381', 'PC 17485', '11767', 'PC 17608',\n",
              "       '250651', '349243', 'F.C.C. 13529', '347470', '29011', '36928',\n",
              "       '16966', 'A/5 21172', '349219', '234818', '345364', '28551',\n",
              "       '111361', '113043', 'PC 17611', '349225', '7598', '113784',\n",
              "       '248740', '244361', '229236', '248733', '31418', '386525',\n",
              "       'C.A. 37671', '315088', '7267', '113510', '2695', '2647', '345783',\n",
              "       '237671', '330931', '330980', 'SC/PARIS 2167', '2691',\n",
              "       'SOTON/O.Q. 3101310', 'C 7076', '110813', '2626', '14313',\n",
              "       'PC 17477', '11765', '3101267', '323951', 'C 7077', '113503',\n",
              "       '2648', '347069', 'PC 17757', '2653', 'STON/O 2. 3101293',\n",
              "       '349227', '27849', '367655', 'SC 1748', '113760', '350034',\n",
              "       '3101277', '350052', '350407', '28403', '244278', '240929',\n",
              "       'STON/O 2. 3101289', '341826', '4137', '315096', '28664', '347064',\n",
              "       '29106', '312992', '349222', '394140', 'STON/O 2. 3101269',\n",
              "       '343095', '28220', '250652', '28228', '345773', '349254',\n",
              "       'A/5. 13032', '315082', '347080', 'A/4. 34244', '2003', '250655',\n",
              "       '364851', 'SOTON/O.Q. 392078', '110564', '376564', 'SC/AH 3085',\n",
              "       'STON/O 2. 3101274', '13507', 'C.A. 18723', '345769', '347076',\n",
              "       '230434', '65306', '33638', '113794', '2666', '113786', '65303',\n",
              "       '113051', '17453', 'A/5 2817', '349240', '13509', '17464',\n",
              "       'F.C.C. 13531', '371060', '19952', '364506', '111320', '234360',\n",
              "       'A/S 2816', 'SOTON/O.Q. 3101306', '113792', '36209', '323592',\n",
              "       '315089', 'SC/AH Basle 541', '7553', '31027', '3460', '350060',\n",
              "       '3101298', '239854', 'A/5 3594', '4134', '11771', 'A.5. 18509',\n",
              "       '65304', 'SOTON/OQ 3101317', '113787', 'PC 17609', 'A/4 45380',\n",
              "       '36947', 'C.A. 6212', '350035', '315086', '364846', '330909',\n",
              "       '4135', '26360', '111427', 'C 4001', '382651', 'SOTON/OQ 3101316',\n",
              "       'PC 17473', 'PC 17603', '349209', '36967', 'C.A. 34260', '226875',\n",
              "       '349242', '12749', '349252', '2624', '2700', '367232',\n",
              "       'W./C. 14258', 'PC 17483', '3101296', '29104', '2641', '2690',\n",
              "       '315084', '113050', 'PC 17761', '364498', '13568', 'WE/P 5735',\n",
              "       '2908', '693', 'SC/PARIS 2146', '244358', '330979', '2620',\n",
              "       '347085', '113807', '11755', '345572', '372622', '349251',\n",
              "       '218629', 'SOTON/OQ 392082', 'SOTON/O.Q. 392087', 'A/4 48871',\n",
              "       '349205', '2686', '350417', 'S.W./PP 752', '11769', 'PC 17474',\n",
              "       '14312', 'A/4. 20589', '358585', '243880', '2689',\n",
              "       'STON/O 2. 3101286', '237789', '13049', '3411', '237565', '13567',\n",
              "       '14973', 'A./5. 3235', 'STON/O 2. 3101273', 'A/5 3902', '364848',\n",
              "       'SC/AH 29037', '248727', '2664', '349214', '113796', '364511',\n",
              "       '111426', '349910', '349246', '113804', 'SOTON/O.Q. 3101305',\n",
              "       '370377', '364512', '220845', '31028', '2659', '11753', '350029',\n",
              "       '54636', '36963', '219533', '349224', '334912', '27042', '347743',\n",
              "       '13214', '112052', '237668', 'STON/O 2. 3101292', '350050',\n",
              "       '349231', '13213', 'S.O./P.P. 751', 'CA. 2314', '349221', '8475',\n",
              "       '330919', '365226', '349223', '29751', '2623', '5727', '349210',\n",
              "       'STON/O 2. 3101285', '234686', '312993', 'A/5 3536', '19996',\n",
              "       '29750', 'F.C. 12750', 'C.A. 24580', '244270', '239856', '349912',\n",
              "       '342826', '4138', '330935', '6563', '349228', '350036', '24160',\n",
              "       '17474', '349256', '2672', '113800', '248731', '363592', '35852',\n",
              "       '348121', 'PC 17475', '36864', '350025', '223596', 'PC 17476',\n",
              "       'PC 17482', '113028', '7545', '250647', '348124', '34218', '36568',\n",
              "       '347062', '350048', '12233', '250643', '113806', '315094', '36866',\n",
              "       '236853', 'STON/O2. 3101271', '239855', '28425', '233639',\n",
              "       '349201', '349218', '16988', '376566', 'STON/O 2. 3101288',\n",
              "       '250648', '113773', '335097', '29103', '392096', '345780',\n",
              "       '349204', '350042', '29108', '363294', 'SOTON/O2 3101272', '2663',\n",
              "       '347074', '112379', '364850', '8471', '345781', '350047',\n",
              "       'S.O./P.P. 3', '2674', '29105', '347078', '383121', '36865',\n",
              "       '2687', '113501', 'W./C. 6607', 'SOTON/O.Q. 3101312', '374887',\n",
              "       '3101265', '12460', 'PC 17600', '349203', '28213', '17465',\n",
              "       '349244', '2685', '2625', '347089', '347063', '112050', '347087',\n",
              "       '248723', '3474', '28206', '364499', '112058', 'STON/O2. 3101290',\n",
              "       'S.C./PARIS 2079', 'C 7075', '315098', '19972', '368323', '367228',\n",
              "       '2671', '347468', '2223', 'PC 17756', '315097', '392092', '11774',\n",
              "       'SOTON/O2 3101287', '2683', '315090', 'C.A. 5547', '349213',\n",
              "       '347060', 'PC 17592', '392091', '113055', '2629', '350026',\n",
              "       '28134', '17466', '233866', '236852', 'SC/PARIS 2149', 'PC 17590',\n",
              "       '345777', '349248', '695', '345765', '2667', '349212', '349217',\n",
              "       '349257', '7552', 'C.A./SOTON 34068', 'SOTON/OQ 392076', '211536',\n",
              "       '112053', '111369', '370376'], dtype=object)"
            ]
          },
          "metadata": {},
          "execution_count": 15
        }
      ]
    },
    {
      "cell_type": "code",
      "source": [
        "titanic_df.Embarked.unique()"
      ],
      "metadata": {
        "id": "X_Mh_w8HU7Y5",
        "colab": {
          "base_uri": "https://localhost:8080/"
        },
        "outputId": "a39c06af-4afd-4bf7-92c7-1d9048b16d79"
      },
      "execution_count": 16,
      "outputs": [
        {
          "output_type": "execute_result",
          "data": {
            "text/plain": [
              "array(['S', 'C', 'Q', nan], dtype=object)"
            ]
          },
          "metadata": {},
          "execution_count": 16
        }
      ]
    },
    {
      "cell_type": "code",
      "source": [
        "titanic_df.Name.unique()"
      ],
      "metadata": {
        "id": "uKNYUOd_VFle",
        "colab": {
          "base_uri": "https://localhost:8080/"
        },
        "outputId": "9a6a2c13-182d-40be-86bb-51eed3e30cbe"
      },
      "execution_count": 17,
      "outputs": [
        {
          "output_type": "execute_result",
          "data": {
            "text/plain": [
              "array(['Braund, Mr. Owen Harris',\n",
              "       'Cumings, Mrs. John Bradley (Florence Briggs Thayer)',\n",
              "       'Heikkinen, Miss. Laina',\n",
              "       'Futrelle, Mrs. Jacques Heath (Lily May Peel)',\n",
              "       'Allen, Mr. William Henry', 'Moran, Mr. James',\n",
              "       'McCarthy, Mr. Timothy J', 'Palsson, Master. Gosta Leonard',\n",
              "       'Johnson, Mrs. Oscar W (Elisabeth Vilhelmina Berg)',\n",
              "       'Nasser, Mrs. Nicholas (Adele Achem)',\n",
              "       'Sandstrom, Miss. Marguerite Rut', 'Bonnell, Miss. Elizabeth',\n",
              "       'Saundercock, Mr. William Henry', 'Andersson, Mr. Anders Johan',\n",
              "       'Vestrom, Miss. Hulda Amanda Adolfina',\n",
              "       'Hewlett, Mrs. (Mary D Kingcome) ', 'Rice, Master. Eugene',\n",
              "       'Williams, Mr. Charles Eugene',\n",
              "       'Vander Planke, Mrs. Julius (Emelia Maria Vandemoortele)',\n",
              "       'Masselmani, Mrs. Fatima', 'Fynney, Mr. Joseph J',\n",
              "       'Beesley, Mr. Lawrence', 'McGowan, Miss. Anna \"Annie\"',\n",
              "       'Sloper, Mr. William Thompson', 'Palsson, Miss. Torborg Danira',\n",
              "       'Asplund, Mrs. Carl Oscar (Selma Augusta Emilia Johansson)',\n",
              "       'Emir, Mr. Farred Chehab', 'Fortune, Mr. Charles Alexander',\n",
              "       'O\\'Dwyer, Miss. Ellen \"Nellie\"', 'Todoroff, Mr. Lalio',\n",
              "       'Uruchurtu, Don. Manuel E',\n",
              "       'Spencer, Mrs. William Augustus (Marie Eugenie)',\n",
              "       'Glynn, Miss. Mary Agatha', 'Wheadon, Mr. Edward H',\n",
              "       'Meyer, Mr. Edgar Joseph', 'Holverson, Mr. Alexander Oskar',\n",
              "       'Mamee, Mr. Hanna', 'Cann, Mr. Ernest Charles',\n",
              "       'Vander Planke, Miss. Augusta Maria',\n",
              "       'Nicola-Yarred, Miss. Jamila',\n",
              "       'Ahlin, Mrs. Johan (Johanna Persdotter Larsson)',\n",
              "       'Turpin, Mrs. William John Robert (Dorothy Ann Wonnacott)',\n",
              "       'Kraeff, Mr. Theodor', 'Laroche, Miss. Simonne Marie Anne Andree',\n",
              "       'Devaney, Miss. Margaret Delia', 'Rogers, Mr. William John',\n",
              "       'Lennon, Mr. Denis', \"O'Driscoll, Miss. Bridget\",\n",
              "       'Samaan, Mr. Youssef',\n",
              "       'Arnold-Franchi, Mrs. Josef (Josefine Franchi)',\n",
              "       'Panula, Master. Juha Niilo', 'Nosworthy, Mr. Richard Cater',\n",
              "       'Harper, Mrs. Henry Sleeper (Myna Haxtun)',\n",
              "       'Faunthorpe, Mrs. Lizzie (Elizabeth Anne Wilkinson)',\n",
              "       'Ostby, Mr. Engelhart Cornelius', 'Woolner, Mr. Hugh',\n",
              "       'Rugg, Miss. Emily', 'Novel, Mr. Mansouer',\n",
              "       'West, Miss. Constance Mirium',\n",
              "       'Goodwin, Master. William Frederick', 'Sirayanian, Mr. Orsen',\n",
              "       'Icard, Miss. Amelie', 'Harris, Mr. Henry Birkhardt',\n",
              "       'Skoog, Master. Harald', 'Stewart, Mr. Albert A',\n",
              "       'Moubarek, Master. Gerios', 'Nye, Mrs. (Elizabeth Ramell)',\n",
              "       'Crease, Mr. Ernest James', 'Andersson, Miss. Erna Alexandra',\n",
              "       'Kink, Mr. Vincenz', 'Jenkin, Mr. Stephen Curnow',\n",
              "       'Goodwin, Miss. Lillian Amy', 'Hood, Mr. Ambrose Jr',\n",
              "       'Chronopoulos, Mr. Apostolos', 'Bing, Mr. Lee',\n",
              "       'Moen, Mr. Sigurd Hansen', 'Staneff, Mr. Ivan',\n",
              "       'Moutal, Mr. Rahamin Haim', 'Caldwell, Master. Alden Gates',\n",
              "       'Dowdell, Miss. Elizabeth', 'Waelens, Mr. Achille',\n",
              "       'Sheerlinck, Mr. Jan Baptist', 'McDermott, Miss. Brigdet Delia',\n",
              "       'Carrau, Mr. Francisco M', 'Ilett, Miss. Bertha',\n",
              "       'Backstrom, Mrs. Karl Alfred (Maria Mathilda Gustafsson)',\n",
              "       'Ford, Mr. William Neal', 'Slocovski, Mr. Selman Francis',\n",
              "       'Fortune, Miss. Mabel Helen', 'Celotti, Mr. Francesco',\n",
              "       'Christmann, Mr. Emil', 'Andreasson, Mr. Paul Edvin',\n",
              "       'Chaffee, Mr. Herbert Fuller', 'Dean, Mr. Bertram Frank',\n",
              "       'Coxon, Mr. Daniel', 'Shorney, Mr. Charles Joseph',\n",
              "       'Goldschmidt, Mr. George B', 'Greenfield, Mr. William Bertram',\n",
              "       'Doling, Mrs. John T (Ada Julia Bone)', 'Kantor, Mr. Sinai',\n",
              "       'Petranec, Miss. Matilda', 'Petroff, Mr. Pastcho (\"Pentcho\")',\n",
              "       'White, Mr. Richard Frasar', 'Johansson, Mr. Gustaf Joel',\n",
              "       'Gustafsson, Mr. Anders Vilhelm', 'Mionoff, Mr. Stoytcho',\n",
              "       'Salkjelsvik, Miss. Anna Kristine', 'Moss, Mr. Albert Johan',\n",
              "       'Rekic, Mr. Tido', 'Moran, Miss. Bertha',\n",
              "       'Porter, Mr. Walter Chamberlain', 'Zabour, Miss. Hileni',\n",
              "       'Barton, Mr. David John', 'Jussila, Miss. Katriina',\n",
              "       'Attalah, Miss. Malake', 'Pekoniemi, Mr. Edvard',\n",
              "       'Connors, Mr. Patrick', 'Turpin, Mr. William John Robert',\n",
              "       'Baxter, Mr. Quigg Edmond', 'Andersson, Miss. Ellis Anna Maria',\n",
              "       'Hickman, Mr. Stanley George', 'Moore, Mr. Leonard Charles',\n",
              "       'Nasser, Mr. Nicholas', 'Webber, Miss. Susan',\n",
              "       'White, Mr. Percival Wayland', 'Nicola-Yarred, Master. Elias',\n",
              "       'McMahon, Mr. Martin', 'Madsen, Mr. Fridtjof Arne',\n",
              "       'Peter, Miss. Anna', 'Ekstrom, Mr. Johan', 'Drazenoic, Mr. Jozef',\n",
              "       'Coelho, Mr. Domingos Fernandeo',\n",
              "       'Robins, Mrs. Alexander A (Grace Charity Laury)',\n",
              "       'Weisz, Mrs. Leopold (Mathilde Francoise Pede)',\n",
              "       'Sobey, Mr. Samuel James Hayden', 'Richard, Mr. Emile',\n",
              "       'Newsom, Miss. Helen Monypeny', 'Futrelle, Mr. Jacques Heath',\n",
              "       'Osen, Mr. Olaf Elon', 'Giglio, Mr. Victor',\n",
              "       'Boulos, Mrs. Joseph (Sultana)', 'Nysten, Miss. Anna Sofia',\n",
              "       'Hakkarainen, Mrs. Pekka Pietari (Elin Matilda Dolck)',\n",
              "       'Burke, Mr. Jeremiah', 'Andrew, Mr. Edgardo Samuel',\n",
              "       'Nicholls, Mr. Joseph Charles',\n",
              "       'Andersson, Mr. August Edvard (\"Wennerstrom\")',\n",
              "       'Ford, Miss. Robina Maggie \"Ruby\"',\n",
              "       'Navratil, Mr. Michel (\"Louis M Hoffman\")',\n",
              "       'Byles, Rev. Thomas Roussel Davids', 'Bateman, Rev. Robert James',\n",
              "       'Pears, Mrs. Thomas (Edith Wearne)', 'Meo, Mr. Alfonzo',\n",
              "       'van Billiard, Mr. Austin Blyler', 'Olsen, Mr. Ole Martin',\n",
              "       'Williams, Mr. Charles Duane', 'Gilnagh, Miss. Katherine \"Katie\"',\n",
              "       'Corn, Mr. Harry', 'Smiljanic, Mr. Mile',\n",
              "       'Sage, Master. Thomas Henry', 'Cribb, Mr. John Hatfield',\n",
              "       'Watt, Mrs. James (Elizabeth \"Bessie\" Inglis Milne)',\n",
              "       'Bengtsson, Mr. John Viktor', 'Calic, Mr. Jovo',\n",
              "       'Panula, Master. Eino Viljami',\n",
              "       'Goldsmith, Master. Frank John William \"Frankie\"',\n",
              "       'Chibnall, Mrs. (Edith Martha Bowerman)',\n",
              "       'Skoog, Mrs. William (Anna Bernhardina Karlsson)',\n",
              "       'Baumann, Mr. John D', 'Ling, Mr. Lee',\n",
              "       'Van der hoef, Mr. Wyckoff', 'Rice, Master. Arthur',\n",
              "       'Johnson, Miss. Eleanor Ileen', 'Sivola, Mr. Antti Wilhelm',\n",
              "       'Smith, Mr. James Clinch', 'Klasen, Mr. Klas Albin',\n",
              "       'Lefebre, Master. Henry Forbes', 'Isham, Miss. Ann Elizabeth',\n",
              "       'Hale, Mr. Reginald', 'Leonard, Mr. Lionel',\n",
              "       'Sage, Miss. Constance Gladys', 'Pernot, Mr. Rene',\n",
              "       'Asplund, Master. Clarence Gustaf Hugo',\n",
              "       'Becker, Master. Richard F', 'Kink-Heilmann, Miss. Luise Gretchen',\n",
              "       'Rood, Mr. Hugh Roscoe',\n",
              "       'O\\'Brien, Mrs. Thomas (Johanna \"Hannah\" Godfrey)',\n",
              "       'Romaine, Mr. Charles Hallace (\"Mr C Rolmane\")',\n",
              "       'Bourke, Mr. John', 'Turcin, Mr. Stjepan', 'Pinsky, Mrs. (Rosa)',\n",
              "       'Carbines, Mr. William',\n",
              "       'Andersen-Jensen, Miss. Carla Christine Nielsine',\n",
              "       'Navratil, Master. Michel M',\n",
              "       'Brown, Mrs. James Joseph (Margaret Tobin)',\n",
              "       'Lurette, Miss. Elise', 'Mernagh, Mr. Robert',\n",
              "       'Olsen, Mr. Karl Siegwart Andreas',\n",
              "       'Madigan, Miss. Margaret \"Maggie\"',\n",
              "       'Yrois, Miss. Henriette (\"Mrs Harbeck\")',\n",
              "       'Vande Walle, Mr. Nestor Cyriel', 'Sage, Mr. Frederick',\n",
              "       'Johanson, Mr. Jakob Alfred', 'Youseff, Mr. Gerious',\n",
              "       'Cohen, Mr. Gurshon \"Gus\"', 'Strom, Miss. Telma Matilda',\n",
              "       'Backstrom, Mr. Karl Alfred', 'Albimona, Mr. Nassef Cassem',\n",
              "       'Carr, Miss. Helen \"Ellen\"', 'Blank, Mr. Henry', 'Ali, Mr. Ahmed',\n",
              "       'Cameron, Miss. Clear Annie', 'Perkin, Mr. John Henry',\n",
              "       'Givard, Mr. Hans Kristensen', 'Kiernan, Mr. Philip',\n",
              "       'Newell, Miss. Madeleine', 'Honkanen, Miss. Eliina',\n",
              "       'Jacobsohn, Mr. Sidney Samuel', 'Bazzani, Miss. Albina',\n",
              "       'Harris, Mr. Walter', 'Sunderland, Mr. Victor Francis',\n",
              "       'Bracken, Mr. James H', 'Green, Mr. George Henry',\n",
              "       'Nenkoff, Mr. Christo', 'Hoyt, Mr. Frederick Maxfield',\n",
              "       'Berglund, Mr. Karl Ivar Sven', 'Mellors, Mr. William John',\n",
              "       'Lovell, Mr. John Hall (\"Henry\")', 'Fahlstrom, Mr. Arne Jonas',\n",
              "       'Lefebre, Miss. Mathilde',\n",
              "       'Harris, Mrs. Henry Birkhardt (Irene Wallach)',\n",
              "       'Larsson, Mr. Bengt Edvin', 'Sjostedt, Mr. Ernst Adolf',\n",
              "       'Asplund, Miss. Lillian Gertrud',\n",
              "       'Leyson, Mr. Robert William Norman',\n",
              "       'Harknett, Miss. Alice Phoebe', 'Hold, Mr. Stephen',\n",
              "       'Collyer, Miss. Marjorie \"Lottie\"',\n",
              "       'Pengelly, Mr. Frederick William', 'Hunt, Mr. George Henry',\n",
              "       'Zabour, Miss. Thamine', 'Murphy, Miss. Katherine \"Kate\"',\n",
              "       'Coleridge, Mr. Reginald Charles', 'Maenpaa, Mr. Matti Alexanteri',\n",
              "       'Attalah, Mr. Sleiman', 'Minahan, Dr. William Edward',\n",
              "       'Lindahl, Miss. Agda Thorilda Viktoria',\n",
              "       'Hamalainen, Mrs. William (Anna)', 'Beckwith, Mr. Richard Leonard',\n",
              "       'Carter, Rev. Ernest Courtenay', 'Reed, Mr. James George',\n",
              "       'Strom, Mrs. Wilhelm (Elna Matilda Persson)',\n",
              "       'Stead, Mr. William Thomas', 'Lobb, Mr. William Arthur',\n",
              "       'Rosblom, Mrs. Viktor (Helena Wilhelmina)',\n",
              "       'Touma, Mrs. Darwis (Hanne Youssef Razi)',\n",
              "       'Thorne, Mrs. Gertrude Maybelle', 'Cherry, Miss. Gladys',\n",
              "       'Ward, Miss. Anna', 'Parrish, Mrs. (Lutie Davis)',\n",
              "       'Smith, Mr. Thomas', 'Asplund, Master. Edvin Rojj Felix',\n",
              "       'Taussig, Mr. Emil', 'Harrison, Mr. William', 'Henry, Miss. Delia',\n",
              "       'Reeves, Mr. David', 'Panula, Mr. Ernesti Arvid',\n",
              "       'Persson, Mr. Ernst Ulrik',\n",
              "       'Graham, Mrs. William Thompson (Edith Junkins)',\n",
              "       'Bissette, Miss. Amelia', 'Cairns, Mr. Alexander',\n",
              "       'Tornquist, Mr. William Henry',\n",
              "       'Mellinger, Mrs. (Elizabeth Anne Maidment)',\n",
              "       'Natsch, Mr. Charles H', 'Healy, Miss. Hanora \"Nora\"',\n",
              "       'Andrews, Miss. Kornelia Theodosia',\n",
              "       'Lindblom, Miss. Augusta Charlotta', 'Parkes, Mr. Francis \"Frank\"',\n",
              "       'Rice, Master. Eric', 'Abbott, Mrs. Stanton (Rosa Hunt)',\n",
              "       'Duane, Mr. Frank', 'Olsson, Mr. Nils Johan Goransson',\n",
              "       'de Pelsmaeker, Mr. Alfons', 'Dorking, Mr. Edward Arthur',\n",
              "       'Smith, Mr. Richard William', 'Stankovic, Mr. Ivan',\n",
              "       'de Mulder, Mr. Theodore', 'Naidenoff, Mr. Penko',\n",
              "       'Hosono, Mr. Masabumi', 'Connolly, Miss. Kate',\n",
              "       'Barber, Miss. Ellen \"Nellie\"',\n",
              "       'Bishop, Mrs. Dickinson H (Helen Walton)',\n",
              "       'Levy, Mr. Rene Jacques', 'Haas, Miss. Aloisia',\n",
              "       'Mineff, Mr. Ivan', 'Lewy, Mr. Ervin G', 'Hanna, Mr. Mansour',\n",
              "       'Allison, Miss. Helen Loraine', 'Saalfeld, Mr. Adolphe',\n",
              "       'Baxter, Mrs. James (Helene DeLaudeniere Chaput)',\n",
              "       'Kelly, Miss. Anna Katherine \"Annie Kate\"', 'McCoy, Mr. Bernard',\n",
              "       'Johnson, Mr. William Cahoone Jr', 'Keane, Miss. Nora A',\n",
              "       'Williams, Mr. Howard Hugh \"Harry\"',\n",
              "       'Allison, Master. Hudson Trevor', 'Fleming, Miss. Margaret',\n",
              "       'Penasco y Castellana, Mrs. Victor de Satode (Maria Josefa Perez de Soto y Vallejo)',\n",
              "       'Abelson, Mr. Samuel', 'Francatelli, Miss. Laura Mabel',\n",
              "       'Hays, Miss. Margaret Bechstein', 'Ryerson, Miss. Emily Borie',\n",
              "       'Lahtinen, Mrs. William (Anna Sylfven)', 'Hendekovic, Mr. Ignjac',\n",
              "       'Hart, Mr. Benjamin', 'Nilsson, Miss. Helmina Josefina',\n",
              "       'Kantor, Mrs. Sinai (Miriam Sternin)', 'Moraweck, Dr. Ernest',\n",
              "       'Wick, Miss. Mary Natalie',\n",
              "       'Spedden, Mrs. Frederic Oakley (Margaretta Corning Stone)',\n",
              "       'Dennis, Mr. Samuel', 'Danoff, Mr. Yoto',\n",
              "       'Slayter, Miss. Hilda Mary',\n",
              "       'Caldwell, Mrs. Albert Francis (Sylvia Mae Harbaugh)',\n",
              "       'Sage, Mr. George John Jr', 'Young, Miss. Marie Grice',\n",
              "       'Nysveen, Mr. Johan Hansen', 'Ball, Mrs. (Ada E Hall)',\n",
              "       'Goldsmith, Mrs. Frank John (Emily Alice Brown)',\n",
              "       'Hippach, Miss. Jean Gertrude', 'McCoy, Miss. Agnes',\n",
              "       'Partner, Mr. Austen', 'Graham, Mr. George Edward',\n",
              "       'Vander Planke, Mr. Leo Edmondus',\n",
              "       'Frauenthal, Mrs. Henry William (Clara Heinsheimer)',\n",
              "       'Denkoff, Mr. Mitto', 'Pears, Mr. Thomas Clinton',\n",
              "       'Burns, Miss. Elizabeth Margaret', 'Dahl, Mr. Karl Edwart',\n",
              "       'Blackwell, Mr. Stephen Weart', 'Navratil, Master. Edmond Roger',\n",
              "       'Fortune, Miss. Alice Elizabeth', 'Collander, Mr. Erik Gustaf',\n",
              "       'Sedgwick, Mr. Charles Frederick Waddington',\n",
              "       'Fox, Mr. Stanley Hubert', 'Brown, Miss. Amelia \"Mildred\"',\n",
              "       'Smith, Miss. Marion Elsie',\n",
              "       'Davison, Mrs. Thomas Henry (Mary E Finck)',\n",
              "       'Coutts, Master. William Loch \"William\"', 'Dimic, Mr. Jovan',\n",
              "       'Odahl, Mr. Nils Martin', 'Williams-Lambert, Mr. Fletcher Fellows',\n",
              "       'Elias, Mr. Tannous', 'Arnold-Franchi, Mr. Josef',\n",
              "       'Yousif, Mr. Wazli', 'Vanden Steen, Mr. Leo Peter',\n",
              "       'Bowerman, Miss. Elsie Edith', 'Funk, Miss. Annie Clemmer',\n",
              "       'McGovern, Miss. Mary', 'Mockler, Miss. Helen Mary \"Ellie\"',\n",
              "       'Skoog, Mr. Wilhelm', 'del Carlo, Mr. Sebastiano',\n",
              "       'Barbara, Mrs. (Catherine David)', 'Asim, Mr. Adola',\n",
              "       \"O'Brien, Mr. Thomas\", 'Adahl, Mr. Mauritz Nils Martin',\n",
              "       'Warren, Mrs. Frank Manley (Anna Sophia Atkinson)',\n",
              "       'Moussa, Mrs. (Mantoura Boulos)', 'Jermyn, Miss. Annie',\n",
              "       'Aubart, Mme. Leontine Pauline', 'Harder, Mr. George Achilles',\n",
              "       'Wiklund, Mr. Jakob Alfred', 'Beavan, Mr. William Thomas',\n",
              "       'Ringhini, Mr. Sante', 'Palsson, Miss. Stina Viola',\n",
              "       'Meyer, Mrs. Edgar Joseph (Leila Saks)',\n",
              "       'Landergren, Miss. Aurora Adelia', 'Widener, Mr. Harry Elkins',\n",
              "       'Betros, Mr. Tannous', 'Gustafsson, Mr. Karl Gideon',\n",
              "       'Bidois, Miss. Rosalie', 'Nakid, Miss. Maria (\"Mary\")',\n",
              "       'Tikkanen, Mr. Juho',\n",
              "       'Holverson, Mrs. Alexander Oskar (Mary Aline Towner)',\n",
              "       'Plotcharsky, Mr. Vasil', 'Davies, Mr. Charles Henry',\n",
              "       'Goodwin, Master. Sidney Leonard', 'Buss, Miss. Kate',\n",
              "       'Sadlier, Mr. Matthew', 'Lehmann, Miss. Bertha',\n",
              "       'Carter, Mr. William Ernest', 'Jansson, Mr. Carl Olof',\n",
              "       'Gustafsson, Mr. Johan Birger', 'Newell, Miss. Marjorie',\n",
              "       'Sandstrom, Mrs. Hjalmar (Agnes Charlotta Bengtsson)',\n",
              "       'Johansson, Mr. Erik', 'Olsson, Miss. Elina',\n",
              "       'McKane, Mr. Peter David', 'Pain, Dr. Alfred',\n",
              "       'Trout, Mrs. William H (Jessie L)', 'Niskanen, Mr. Juha',\n",
              "       'Adams, Mr. John', 'Jussila, Miss. Mari Aina',\n",
              "       'Hakkarainen, Mr. Pekka Pietari', 'Oreskovic, Miss. Marija',\n",
              "       'Gale, Mr. Shadrach', 'Widegren, Mr. Carl/Charles Peter',\n",
              "       'Richards, Master. William Rowe',\n",
              "       'Birkeland, Mr. Hans Martin Monsen', 'Lefebre, Miss. Ida',\n",
              "       'Sdycoff, Mr. Todor', 'Hart, Mr. Henry', 'Minahan, Miss. Daisy E',\n",
              "       'Cunningham, Mr. Alfred Fleming', 'Sundman, Mr. Johan Julian',\n",
              "       'Meek, Mrs. Thomas (Annie Louise Rowley)',\n",
              "       'Drew, Mrs. James Vivian (Lulu Thorne Christian)',\n",
              "       'Silven, Miss. Lyyli Karoliina', 'Matthews, Mr. William John',\n",
              "       'Van Impe, Miss. Catharina', 'Gheorgheff, Mr. Stanio',\n",
              "       'Charters, Mr. David', 'Zimmerman, Mr. Leo',\n",
              "       'Danbom, Mrs. Ernst Gilbert (Anna Sigrid Maria Brogren)',\n",
              "       'Rosblom, Mr. Viktor Richard', 'Wiseman, Mr. Phillippe',\n",
              "       'Clarke, Mrs. Charles V (Ada Maria Winfield)',\n",
              "       'Phillips, Miss. Kate Florence (\"Mrs Kate Louise Phillips Marshall\")',\n",
              "       'Flynn, Mr. James', 'Pickard, Mr. Berk (Berk Trembisky)',\n",
              "       'Bjornstrom-Steffansson, Mr. Mauritz Hakan',\n",
              "       'Thorneycroft, Mrs. Percival (Florence Kate White)',\n",
              "       'Louch, Mrs. Charles Alexander (Alice Adelaide Slow)',\n",
              "       'Kallio, Mr. Nikolai Erland', 'Silvey, Mr. William Baird',\n",
              "       'Carter, Miss. Lucile Polk',\n",
              "       'Ford, Miss. Doolina Margaret \"Daisy\"',\n",
              "       'Richards, Mrs. Sidney (Emily Hocking)', 'Fortune, Mr. Mark',\n",
              "       'Kvillner, Mr. Johan Henrik Johannesson',\n",
              "       'Hart, Mrs. Benjamin (Esther Ada Bloomfield)', 'Hampe, Mr. Leon',\n",
              "       'Petterson, Mr. Johan Emil', 'Reynaldo, Ms. Encarnacion',\n",
              "       'Johannesen-Bratthammer, Mr. Bernt', 'Dodge, Master. Washington',\n",
              "       'Mellinger, Miss. Madeleine Violet', 'Seward, Mr. Frederic Kimber',\n",
              "       'Baclini, Miss. Marie Catherine', 'Peuchen, Major. Arthur Godfrey',\n",
              "       'West, Mr. Edwy Arthur', 'Hagland, Mr. Ingvald Olai Olsen',\n",
              "       'Foreman, Mr. Benjamin Laventall', 'Goldenberg, Mr. Samuel L',\n",
              "       'Peduzzi, Mr. Joseph', 'Jalsevac, Mr. Ivan',\n",
              "       'Millet, Mr. Francis Davis', 'Kenyon, Mrs. Frederick R (Marion)',\n",
              "       'Toomey, Miss. Ellen', \"O'Connor, Mr. Maurice\",\n",
              "       'Anderson, Mr. Harry', 'Morley, Mr. William', 'Gee, Mr. Arthur H',\n",
              "       'Milling, Mr. Jacob Christian', 'Maisner, Mr. Simon',\n",
              "       'Goncalves, Mr. Manuel Estanslas', 'Campbell, Mr. William',\n",
              "       'Smart, Mr. John Montgomery', 'Scanlan, Mr. James',\n",
              "       'Baclini, Miss. Helene Barbara', 'Keefe, Mr. Arthur',\n",
              "       'Cacic, Mr. Luka', 'West, Mrs. Edwy Arthur (Ada Mary Worth)',\n",
              "       'Jerwan, Mrs. Amin S (Marie Marthe Thuillard)',\n",
              "       'Strandberg, Miss. Ida Sofia', 'Clifford, Mr. George Quincy',\n",
              "       'Renouf, Mr. Peter Henry', 'Braund, Mr. Lewis Richard',\n",
              "       'Karlsson, Mr. Nils August', 'Hirvonen, Miss. Hildur E',\n",
              "       'Goodwin, Master. Harold Victor',\n",
              "       'Frost, Mr. Anthony Wood \"Archie\"', 'Rouse, Mr. Richard Henry',\n",
              "       'Turkula, Mrs. (Hedwig)', 'Bishop, Mr. Dickinson H',\n",
              "       'Lefebre, Miss. Jeannie',\n",
              "       'Hoyt, Mrs. Frederick Maxfield (Jane Anne Forby)',\n",
              "       'Kent, Mr. Edward Austin', 'Somerton, Mr. Francis William',\n",
              "       'Coutts, Master. Eden Leslie \"Neville\"',\n",
              "       'Hagland, Mr. Konrad Mathias Reiersen', 'Windelov, Mr. Einar',\n",
              "       'Molson, Mr. Harry Markland', 'Artagaveytia, Mr. Ramon',\n",
              "       'Stanley, Mr. Edward Roland', 'Yousseff, Mr. Gerious',\n",
              "       'Eustis, Miss. Elizabeth Mussey',\n",
              "       'Shellard, Mr. Frederick William',\n",
              "       'Allison, Mrs. Hudson J C (Bessie Waldo Daniels)',\n",
              "       'Svensson, Mr. Olof', 'Calic, Mr. Petar', 'Canavan, Miss. Mary',\n",
              "       \"O'Sullivan, Miss. Bridget Mary\", 'Laitinen, Miss. Kristina Sofia',\n",
              "       'Maioni, Miss. Roberta',\n",
              "       'Penasco y Castellana, Mr. Victor de Satode',\n",
              "       'Quick, Mrs. Frederick Charles (Jane Richards)',\n",
              "       'Bradley, Mr. George (\"George Arthur Brayton\")',\n",
              "       'Olsen, Mr. Henry Margido', 'Lang, Mr. Fang',\n",
              "       'Daly, Mr. Eugene Patrick', 'Webber, Mr. James',\n",
              "       'McGough, Mr. James Robert',\n",
              "       'Rothschild, Mrs. Martin (Elizabeth L. Barrett)',\n",
              "       'Coleff, Mr. Satio', 'Walker, Mr. William Anderson',\n",
              "       'Lemore, Mrs. (Amelia Milley)', 'Ryan, Mr. Patrick',\n",
              "       'Angle, Mrs. William A (Florence \"Mary\" Agnes Hughes)',\n",
              "       'Pavlovic, Mr. Stefo', 'Perreault, Miss. Anne', 'Vovk, Mr. Janko',\n",
              "       'Lahoud, Mr. Sarkis',\n",
              "       'Hippach, Mrs. Louis Albert (Ida Sophia Fischer)',\n",
              "       'Kassem, Mr. Fared', 'Farrell, Mr. James', 'Ridsdale, Miss. Lucy',\n",
              "       'Farthing, Mr. John', 'Salonen, Mr. Johan Werner',\n",
              "       'Hocking, Mr. Richard George', 'Quick, Miss. Phyllis May',\n",
              "       'Toufik, Mr. Nakli', 'Elias, Mr. Joseph Jr',\n",
              "       'Peter, Mrs. Catherine (Catherine Rizk)', 'Cacic, Miss. Marija',\n",
              "       'Hart, Miss. Eva Miriam', 'Butt, Major. Archibald Willingham',\n",
              "       'LeRoy, Miss. Bertha', 'Risien, Mr. Samuel Beard',\n",
              "       'Frolicher, Miss. Hedwig Margaritha', 'Crosby, Miss. Harriet R',\n",
              "       'Andersson, Miss. Ingeborg Constanzia',\n",
              "       'Andersson, Miss. Sigrid Elisabeth', 'Beane, Mr. Edward',\n",
              "       'Douglas, Mr. Walter Donald', 'Nicholson, Mr. Arthur Ernest',\n",
              "       'Beane, Mrs. Edward (Ethel Clarke)', 'Padro y Manent, Mr. Julian',\n",
              "       'Goldsmith, Mr. Frank John', 'Davies, Master. John Morgan Jr',\n",
              "       'Thayer, Mr. John Borland Jr', 'Sharp, Mr. Percival James R',\n",
              "       \"O'Brien, Mr. Timothy\", 'Leeni, Mr. Fahim (\"Philip Zenni\")',\n",
              "       'Ohman, Miss. Velin', 'Wright, Mr. George',\n",
              "       'Duff Gordon, Lady. (Lucille Christiana Sutherland) (\"Mrs Morgan\")',\n",
              "       'Robbins, Mr. Victor', 'Taussig, Mrs. Emil (Tillie Mandelbaum)',\n",
              "       'de Messemaeker, Mrs. Guillaume Joseph (Emma)',\n",
              "       'Morrow, Mr. Thomas Rowan', 'Sivic, Mr. Husein',\n",
              "       'Norman, Mr. Robert Douglas', 'Simmons, Mr. John',\n",
              "       'Meanwell, Miss. (Marion Ogden)', 'Davies, Mr. Alfred J',\n",
              "       'Stoytcheff, Mr. Ilia',\n",
              "       'Palsson, Mrs. Nils (Alma Cornelia Berglund)',\n",
              "       'Doharr, Mr. Tannous', 'Jonsson, Mr. Carl', 'Harris, Mr. George',\n",
              "       'Appleton, Mrs. Edward Dale (Charlotte Lamson)',\n",
              "       'Flynn, Mr. John Irwin (\"Irving\")', 'Kelly, Miss. Mary',\n",
              "       'Rush, Mr. Alfred George John', 'Patchett, Mr. George',\n",
              "       'Garside, Miss. Ethel',\n",
              "       'Silvey, Mrs. William Baird (Alice Munger)',\n",
              "       'Caram, Mrs. Joseph (Maria Elias)', 'Jussila, Mr. Eiriik',\n",
              "       'Christy, Miss. Julie Rachel',\n",
              "       'Thayer, Mrs. John Borland (Marian Longstreth Morris)',\n",
              "       'Downton, Mr. William James', 'Ross, Mr. John Hugo',\n",
              "       'Paulner, Mr. Uscher', 'Taussig, Miss. Ruth',\n",
              "       'Jarvis, Mr. John Denzil', 'Frolicher-Stehli, Mr. Maxmillian',\n",
              "       'Gilinski, Mr. Eliezer', 'Murdlin, Mr. Joseph',\n",
              "       'Rintamaki, Mr. Matti',\n",
              "       'Stephenson, Mrs. Walter Bertram (Martha Eustis)',\n",
              "       'Elsbury, Mr. William James', 'Bourke, Miss. Mary',\n",
              "       'Chapman, Mr. John Henry', 'Van Impe, Mr. Jean Baptiste',\n",
              "       'Leitch, Miss. Jessie Wills', 'Johnson, Mr. Alfred',\n",
              "       'Boulos, Mr. Hanna',\n",
              "       'Duff Gordon, Sir. Cosmo Edmund (\"Mr Morgan\")',\n",
              "       'Jacobsohn, Mrs. Sidney Samuel (Amy Frances Christy)',\n",
              "       'Slabenoff, Mr. Petco', 'Harrington, Mr. Charles H',\n",
              "       'Torber, Mr. Ernst William', 'Homer, Mr. Harry (\"Mr E Haven\")',\n",
              "       'Lindell, Mr. Edvard Bengtsson', 'Karaic, Mr. Milan',\n",
              "       'Daniel, Mr. Robert Williams',\n",
              "       'Laroche, Mrs. Joseph (Juliette Marie Louise Lafargue)',\n",
              "       'Shutes, Miss. Elizabeth W',\n",
              "       'Andersson, Mrs. Anders Johan (Alfrida Konstantia Brogren)',\n",
              "       'Jardin, Mr. Jose Neto', 'Murphy, Miss. Margaret Jane',\n",
              "       'Horgan, Mr. John', 'Brocklebank, Mr. William Alfred',\n",
              "       'Herman, Miss. Alice', 'Danbom, Mr. Ernst Gilbert',\n",
              "       'Lobb, Mrs. William Arthur (Cordelia K Stanlick)',\n",
              "       'Becker, Miss. Marion Louise', 'Gavey, Mr. Lawrence',\n",
              "       'Yasbeck, Mr. Antoni', 'Kimball, Mr. Edwin Nelson Jr',\n",
              "       'Nakid, Mr. Sahid', 'Hansen, Mr. Henry Damsgaard',\n",
              "       'Bowen, Mr. David John \"Dai\"', 'Sutton, Mr. Frederick',\n",
              "       'Kirkland, Rev. Charles Leonard', 'Longley, Miss. Gretchen Fiske',\n",
              "       'Bostandyeff, Mr. Guentcho', \"O'Connell, Mr. Patrick D\",\n",
              "       'Barkworth, Mr. Algernon Henry Wilson',\n",
              "       'Lundahl, Mr. Johan Svensson', 'Stahelin-Maeglin, Dr. Max',\n",
              "       'Parr, Mr. William Henry Marsh', 'Skoog, Miss. Mabel',\n",
              "       'Davis, Miss. Mary', 'Leinonen, Mr. Antti Gustaf',\n",
              "       'Collyer, Mr. Harvey', 'Panula, Mrs. Juha (Maria Emilia Ojala)',\n",
              "       'Thorneycroft, Mr. Percival', 'Jensen, Mr. Hans Peder',\n",
              "       'Sagesser, Mlle. Emma', 'Skoog, Miss. Margit Elizabeth',\n",
              "       'Foo, Mr. Choong', 'Baclini, Miss. Eugenie',\n",
              "       'Harper, Mr. Henry Sleeper', 'Cor, Mr. Liudevit',\n",
              "       'Simonius-Blumer, Col. Oberst Alfons', 'Willey, Mr. Edward',\n",
              "       'Stanley, Miss. Amy Zillah Elsie', 'Mitkoff, Mr. Mito',\n",
              "       'Doling, Miss. Elsie', 'Kalvik, Mr. Johannes Halvorsen',\n",
              "       'O\\'Leary, Miss. Hanora \"Norah\"', 'Hegarty, Miss. Hanora \"Nora\"',\n",
              "       'Hickman, Mr. Leonard Mark', 'Radeff, Mr. Alexander',\n",
              "       'Bourke, Mrs. John (Catherine)', 'Eitemiller, Mr. George Floyd',\n",
              "       'Newell, Mr. Arthur Webster', 'Frauenthal, Dr. Henry William',\n",
              "       'Badt, Mr. Mohamed', 'Colley, Mr. Edward Pomeroy',\n",
              "       'Coleff, Mr. Peju', 'Lindqvist, Mr. Eino William',\n",
              "       'Hickman, Mr. Lewis', 'Butler, Mr. Reginald Fenton',\n",
              "       'Rommetvedt, Mr. Knud Paust', 'Cook, Mr. Jacob',\n",
              "       'Taylor, Mrs. Elmer Zebley (Juliet Cummins Wright)',\n",
              "       'Brown, Mrs. Thomas William Solomon (Elizabeth Catherine Ford)',\n",
              "       'Davidson, Mr. Thornton', 'Mitchell, Mr. Henry Michael',\n",
              "       'Wilhelms, Mr. Charles', 'Watson, Mr. Ennis Hastings',\n",
              "       'Edvardsson, Mr. Gustaf Hjalmar', 'Sawyer, Mr. Frederick Charles',\n",
              "       'Turja, Miss. Anna Sofia',\n",
              "       'Goodwin, Mrs. Frederick (Augusta Tyler)',\n",
              "       'Cardeza, Mr. Thomas Drake Martinez', 'Peters, Miss. Katie',\n",
              "       'Hassab, Mr. Hammad', 'Olsvigen, Mr. Thor Anderson',\n",
              "       'Goodwin, Mr. Charles Edward', 'Brown, Mr. Thomas William Solomon',\n",
              "       'Laroche, Mr. Joseph Philippe Lemercier',\n",
              "       'Panula, Mr. Jaako Arnold', 'Dakic, Mr. Branko',\n",
              "       'Fischer, Mr. Eberhard Thelander',\n",
              "       'Madill, Miss. Georgette Alexandra', 'Dick, Mr. Albert Adrian',\n",
              "       'Karun, Miss. Manca', 'Lam, Mr. Ali', 'Saad, Mr. Khalil',\n",
              "       'Weir, Col. John', 'Chapman, Mr. Charles Henry',\n",
              "       'Kelly, Mr. James', 'Mullens, Miss. Katherine \"Katie\"',\n",
              "       'Thayer, Mr. John Borland',\n",
              "       'Humblen, Mr. Adolf Mathias Nicolai Olsen',\n",
              "       'Astor, Mrs. John Jacob (Madeleine Talmadge Force)',\n",
              "       'Silverthorne, Mr. Spencer Victor', 'Barbara, Miss. Saiide',\n",
              "       'Gallagher, Mr. Martin', 'Hansen, Mr. Henrik Juul',\n",
              "       'Morley, Mr. Henry Samuel (\"Mr Henry Marshall\")',\n",
              "       'Kelly, Mrs. Florence \"Fannie\"',\n",
              "       'Calderhead, Mr. Edward Pennington', 'Cleaver, Miss. Alice',\n",
              "       'Moubarek, Master. Halim Gonios (\"William George\")',\n",
              "       'Mayne, Mlle. Berthe Antonine (\"Mrs de Villiers\")',\n",
              "       'Klaber, Mr. Herman', 'Taylor, Mr. Elmer Zebley',\n",
              "       'Larsson, Mr. August Viktor', 'Greenberg, Mr. Samuel',\n",
              "       'Soholt, Mr. Peter Andreas Lauritz Andersen',\n",
              "       'Endres, Miss. Caroline Louise',\n",
              "       'Troutt, Miss. Edwina Celia \"Winnie\"', 'McEvoy, Mr. Michael',\n",
              "       'Johnson, Mr. Malkolm Joackim',\n",
              "       'Harper, Miss. Annie Jessie \"Nina\"', 'Jensen, Mr. Svend Lauritz',\n",
              "       'Gillespie, Mr. William Henry', 'Hodges, Mr. Henry Price',\n",
              "       'Chambers, Mr. Norman Campbell', 'Oreskovic, Mr. Luka',\n",
              "       'Renouf, Mrs. Peter Henry (Lillian Jefferys)',\n",
              "       'Mannion, Miss. Margareth', 'Bryhl, Mr. Kurt Arnold Gottfrid',\n",
              "       'Ilmakangas, Miss. Pieta Sofia', 'Allen, Miss. Elisabeth Walton',\n",
              "       'Hassan, Mr. Houssein G N', 'Knight, Mr. Robert J',\n",
              "       'Berriman, Mr. William John', 'Troupiansky, Mr. Moses Aaron',\n",
              "       'Williams, Mr. Leslie', 'Ford, Mrs. Edward (Margaret Ann Watson)',\n",
              "       'Lesurer, Mr. Gustave J', 'Ivanoff, Mr. Kanio',\n",
              "       'Nankoff, Mr. Minko', 'Hawksford, Mr. Walter James',\n",
              "       'Cavendish, Mr. Tyrell William',\n",
              "       'Ryerson, Miss. Susan Parker \"Suzette\"', 'McNamee, Mr. Neal',\n",
              "       'Stranden, Mr. Juho', 'Crosby, Capt. Edward Gifford',\n",
              "       'Abbott, Mr. Rossmore Edward', 'Sinkkonen, Miss. Anna',\n",
              "       'Marvin, Mr. Daniel Warner', 'Connaghton, Mr. Michael',\n",
              "       'Wells, Miss. Joan', 'Moor, Master. Meier',\n",
              "       'Vande Velde, Mr. Johannes Joseph', 'Jonkoff, Mr. Lalio',\n",
              "       'Herman, Mrs. Samuel (Jane Laver)', 'Hamalainen, Master. Viljo',\n",
              "       'Carlsson, Mr. August Sigfrid', 'Bailey, Mr. Percy Andrew',\n",
              "       'Theobald, Mr. Thomas Leonard',\n",
              "       'Rothes, the Countess. of (Lucy Noel Martha Dyer-Edwards)',\n",
              "       'Garfirth, Mr. John', 'Nirva, Mr. Iisakki Antino Aijo',\n",
              "       'Barah, Mr. Hanna Assi',\n",
              "       'Carter, Mrs. William Ernest (Lucile Polk)',\n",
              "       'Eklund, Mr. Hans Linus', 'Hogeboom, Mrs. John C (Anna Andrews)',\n",
              "       'Brewe, Dr. Arthur Jackson', 'Mangan, Miss. Mary',\n",
              "       'Moran, Mr. Daniel J', 'Gronnestad, Mr. Daniel Danielsen',\n",
              "       'Lievens, Mr. Rene Aime', 'Jensen, Mr. Niels Peder',\n",
              "       'Mack, Mrs. (Mary)', 'Elias, Mr. Dibo',\n",
              "       'Hocking, Mrs. Elizabeth (Eliza Needs)',\n",
              "       'Myhrman, Mr. Pehr Fabian Oliver Malkolm', 'Tobin, Mr. Roger',\n",
              "       'Emanuel, Miss. Virginia Ethel', 'Kilgannon, Mr. Thomas J',\n",
              "       'Robert, Mrs. Edward Scott (Elisabeth Walton McMillan)',\n",
              "       'Ayoub, Miss. Banoura',\n",
              "       'Dick, Mrs. Albert Adrian (Vera Gillespie)',\n",
              "       'Long, Mr. Milton Clyde', 'Johnston, Mr. Andrew G',\n",
              "       'Ali, Mr. William', 'Harmer, Mr. Abraham (David Lishin)',\n",
              "       'Sjoblom, Miss. Anna Sofia', 'Rice, Master. George Hugh',\n",
              "       'Dean, Master. Bertram Vere', 'Guggenheim, Mr. Benjamin',\n",
              "       'Keane, Mr. Andrew \"Andy\"', 'Gaskell, Mr. Alfred',\n",
              "       'Sage, Miss. Stella Anna', 'Hoyt, Mr. William Fisher',\n",
              "       'Dantcheff, Mr. Ristiu', 'Otter, Mr. Richard',\n",
              "       'Leader, Dr. Alice (Farnham)', 'Osman, Mrs. Mara',\n",
              "       'Ibrahim Shawah, Mr. Yousseff',\n",
              "       'Van Impe, Mrs. Jean Baptiste (Rosalie Paula Govaert)',\n",
              "       'Ponesell, Mr. Martin',\n",
              "       'Collyer, Mrs. Harvey (Charlotte Annie Tate)',\n",
              "       'Carter, Master. William Thornton II',\n",
              "       'Thomas, Master. Assad Alexander', 'Hedman, Mr. Oskar Arvid',\n",
              "       'Johansson, Mr. Karl Johan', 'Andrews, Mr. Thomas Jr',\n",
              "       'Pettersson, Miss. Ellen Natalia', 'Meyer, Mr. August',\n",
              "       'Chambers, Mrs. Norman Campbell (Bertha Griggs)',\n",
              "       'Alexander, Mr. William', 'Lester, Mr. James',\n",
              "       'Slemen, Mr. Richard James', 'Andersson, Miss. Ebba Iris Alfrida',\n",
              "       'Tomlin, Mr. Ernest Portage', 'Fry, Mr. Richard',\n",
              "       'Heininen, Miss. Wendla Maria', 'Mallet, Mr. Albert',\n",
              "       'Holm, Mr. John Fredrik Alexander', 'Skoog, Master. Karl Thorsten',\n",
              "       'Hays, Mrs. Charles Melville (Clara Jennings Gregg)',\n",
              "       'Lulic, Mr. Nikola', 'Reuchlin, Jonkheer. John George',\n",
              "       'Moor, Mrs. (Beila)', 'Panula, Master. Urho Abraham',\n",
              "       'Flynn, Mr. John', 'Lam, Mr. Len', 'Mallet, Master. Andre',\n",
              "       'McCormack, Mr. Thomas Joseph',\n",
              "       'Stone, Mrs. George Nelson (Martha Evelyn)',\n",
              "       'Yasbeck, Mrs. Antoni (Selini Alexander)',\n",
              "       'Richards, Master. George Sibley', 'Saad, Mr. Amin',\n",
              "       'Augustsson, Mr. Albert', 'Allum, Mr. Owen George',\n",
              "       'Compton, Miss. Sara Rebecca', 'Pasic, Mr. Jakob',\n",
              "       'Sirota, Mr. Maurice', 'Chip, Mr. Chang', 'Marechal, Mr. Pierre',\n",
              "       'Alhomaki, Mr. Ilmari Rudolf', 'Mudd, Mr. Thomas Charles',\n",
              "       'Serepeca, Miss. Augusta', 'Lemberopolous, Mr. Peter L',\n",
              "       'Culumovic, Mr. Jeso', 'Abbing, Mr. Anthony',\n",
              "       'Sage, Mr. Douglas Bullen', 'Markoff, Mr. Marin',\n",
              "       'Harper, Rev. John',\n",
              "       'Goldenberg, Mrs. Samuel L (Edwiga Grabowska)',\n",
              "       'Andersson, Master. Sigvard Harald Elias', 'Svensson, Mr. Johan',\n",
              "       'Boulos, Miss. Nourelain', 'Lines, Miss. Mary Conover',\n",
              "       'Carter, Mrs. Ernest Courtenay (Lilian Hughes)',\n",
              "       'Aks, Mrs. Sam (Leah Rosen)',\n",
              "       'Wick, Mrs. George Dennick (Mary Hitchcock)',\n",
              "       'Daly, Mr. Peter Denis ', 'Baclini, Mrs. Solomon (Latifa Qurban)',\n",
              "       'Razi, Mr. Raihed', 'Hansen, Mr. Claus Peter',\n",
              "       'Giles, Mr. Frederick Edward',\n",
              "       'Swift, Mrs. Frederick Joel (Margaret Welles Barron)',\n",
              "       'Sage, Miss. Dorothy Edith \"Dolly\"', 'Gill, Mr. John William',\n",
              "       'Bystrom, Mrs. (Karolina)', 'Duran y More, Miss. Asuncion',\n",
              "       'Roebling, Mr. Washington Augustus II',\n",
              "       'van Melkebeke, Mr. Philemon', 'Johnson, Master. Harold Theodor',\n",
              "       'Balkic, Mr. Cerin',\n",
              "       'Beckwith, Mrs. Richard Leonard (Sallie Monypeny)',\n",
              "       'Carlsson, Mr. Frans Olof', 'Vander Cruyssen, Mr. Victor',\n",
              "       'Abelson, Mrs. Samuel (Hannah Wizosky)',\n",
              "       'Najib, Miss. Adele Kiamie \"Jane\"',\n",
              "       'Gustafsson, Mr. Alfred Ossian', 'Petroff, Mr. Nedelio',\n",
              "       'Laleff, Mr. Kristo',\n",
              "       'Potter, Mrs. Thomas Jr (Lily Alexenia Wilson)',\n",
              "       'Shelley, Mrs. William (Imanita Parrish Hall)',\n",
              "       'Markun, Mr. Johann', 'Dahlberg, Miss. Gerda Ulrika',\n",
              "       'Banfield, Mr. Frederick James', 'Sutehall, Mr. Henry Jr',\n",
              "       'Rice, Mrs. William (Margaret Norton)', 'Montvila, Rev. Juozas',\n",
              "       'Graham, Miss. Margaret Edith',\n",
              "       'Johnston, Miss. Catherine Helen \"Carrie\"',\n",
              "       'Behr, Mr. Karl Howell', 'Dooley, Mr. Patrick'], dtype=object)"
            ]
          },
          "metadata": {},
          "execution_count": 17
        }
      ]
    },
    {
      "cell_type": "markdown",
      "source": [
        "##Transformação dos tipos dos atributos"
      ],
      "metadata": {
        "id": "YipO9uLsSc4v"
      }
    },
    {
      "cell_type": "code",
      "source": [
        "titanic_df['Survived'] = titanic_df['Survived'].astype('boolean')\n",
        "titanic_df['Pclass'] = titanic_df['Pclass'].astype('category')\n",
        "titanic_df['Name'] = titanic_df['Name'].astype('string')\n",
        "titanic_df['Sex'] = titanic_df['Sex'].astype('category')\n",
        "titanic_df['Cabin'] = titanic_df['Cabin'].astype('category')\n",
        "titanic_df['Embarked'] = titanic_df['Embarked'].astype('category')"
      ],
      "metadata": {
        "id": "8GtIN3n5cvR_"
      },
      "execution_count": 18,
      "outputs": []
    },
    {
      "cell_type": "markdown",
      "source": [
        "##Derivação de Atributo"
      ],
      "metadata": {
        "id": "1qoalkPjD0t5"
      }
    },
    {
      "cell_type": "code",
      "source": [
        "# Criando uma nova coluna para Pronomes de Tratamento\n",
        "titanic_df['Treatment pronouns'] = titanic_df['Name'].apply(lambda x: x.split(',')[1].split('.')[0].strip())\n",
        "titanic_df['Treatment pronouns'].value_counts()"
      ],
      "metadata": {
        "id": "huhengGji27T",
        "colab": {
          "base_uri": "https://localhost:8080/"
        },
        "outputId": "3f4b5ad0-1c3e-423f-ea5b-60fcb8660018"
      },
      "execution_count": 19,
      "outputs": [
        {
          "output_type": "execute_result",
          "data": {
            "text/plain": [
              "Mr              517\n",
              "Miss            182\n",
              "Mrs             125\n",
              "Master           40\n",
              "Dr                7\n",
              "Rev               6\n",
              "Mlle              2\n",
              "Major             2\n",
              "Col               2\n",
              "the Countess      1\n",
              "Capt              1\n",
              "Ms                1\n",
              "Sir               1\n",
              "Lady              1\n",
              "Mme               1\n",
              "Don               1\n",
              "Jonkheer          1\n",
              "Name: Treatment pronouns, dtype: int64"
            ]
          },
          "metadata": {},
          "execution_count": 19
        }
      ]
    },
    {
      "cell_type": "code",
      "source": [
        "# Criando uma nova coluna para verificar os passageiros que tinham parentes à bordo\n",
        "titanic_df.insert(len(titanic_df.columns),'Relatives',np.nan)\n",
        "titanic_df['Relatives'] = titanic_df['SibSp'] + titanic_df['Parch']\n",
        "titanic_df['Relatives'] = titanic_df.Relatives.apply (lambda x: False if x == 0 else True)"
      ],
      "metadata": {
        "id": "UE-YRZBVD4fw"
      },
      "execution_count": 20,
      "outputs": []
    },
    {
      "cell_type": "code",
      "source": [
        "titanic_df['Relatives'].describe()"
      ],
      "metadata": {
        "colab": {
          "base_uri": "https://localhost:8080/"
        },
        "id": "wNSJfuRBIvOs",
        "outputId": "3b915952-c220-484d-8975-b53248da311a"
      },
      "execution_count": 21,
      "outputs": [
        {
          "output_type": "execute_result",
          "data": {
            "text/plain": [
              "count       891\n",
              "unique        2\n",
              "top       False\n",
              "freq        537\n",
              "Name: Relatives, dtype: object"
            ]
          },
          "metadata": {},
          "execution_count": 21
        }
      ]
    },
    {
      "cell_type": "markdown",
      "source": [
        "##Eliminando colunas"
      ],
      "metadata": {
        "id": "w8DRi4Hfl1dS"
      }
    },
    {
      "cell_type": "markdown",
      "source": [
        "Excluiremos o atributo 'PassengerId' do datase, pois ele não possui correlação/dependência com o atributo target (Survived).\n",
        "\n",
        "Os atributos 'Age' e 'Cabin' necessitarão de tratamento, pois apresentam dados ausentes e  possuem correlação/dependência com o atributo target."
      ],
      "metadata": {
        "id": "fP8V8znBpllJ"
      }
    },
    {
      "cell_type": "code",
      "source": [
        "titanic_df.drop(columns='PassengerId', inplace=True)"
      ],
      "metadata": {
        "id": "VzvX0MiOmMRK"
      },
      "execution_count": 22,
      "outputs": []
    },
    {
      "cell_type": "code",
      "source": [
        "titanic_df.loc[titanic_df[\"Cabin\"].isin([\"C23 C25 C27\"])]"
      ],
      "metadata": {
        "id": "XAFKrFdFthag",
        "colab": {
          "base_uri": "https://localhost:8080/",
          "height": 175
        },
        "outputId": "cc10fbf1-6100-4099-f21c-dea4fe5576a2"
      },
      "execution_count": 23,
      "outputs": [
        {
          "output_type": "execute_result",
          "data": {
            "text/plain": [
              "     Survived Pclass                            Name     Sex   Age  SibSp  \\\n",
              "27      False      1  Fortune, Mr. Charles Alexander    male  19.0      3   \n",
              "88       True      1      Fortune, Miss. Mabel Helen  female  23.0      3   \n",
              "341      True      1  Fortune, Miss. Alice Elizabeth  female  24.0      3   \n",
              "438     False      1               Fortune, Mr. Mark    male  64.0      1   \n",
              "\n",
              "     Parch Ticket   Fare        Cabin Embarked Treatment pronouns  Relatives  \n",
              "27       2  19950  263.0  C23 C25 C27        S                 Mr       True  \n",
              "88       2  19950  263.0  C23 C25 C27        S               Miss       True  \n",
              "341      2  19950  263.0  C23 C25 C27        S               Miss       True  \n",
              "438      4  19950  263.0  C23 C25 C27        S                 Mr       True  "
            ],
            "text/html": [
              "\n",
              "  <div id=\"df-e31cc1bc-3c7f-412f-9481-361994ffd8a8\">\n",
              "    <div class=\"colab-df-container\">\n",
              "      <div>\n",
              "<style scoped>\n",
              "    .dataframe tbody tr th:only-of-type {\n",
              "        vertical-align: middle;\n",
              "    }\n",
              "\n",
              "    .dataframe tbody tr th {\n",
              "        vertical-align: top;\n",
              "    }\n",
              "\n",
              "    .dataframe thead th {\n",
              "        text-align: right;\n",
              "    }\n",
              "</style>\n",
              "<table border=\"1\" class=\"dataframe\">\n",
              "  <thead>\n",
              "    <tr style=\"text-align: right;\">\n",
              "      <th></th>\n",
              "      <th>Survived</th>\n",
              "      <th>Pclass</th>\n",
              "      <th>Name</th>\n",
              "      <th>Sex</th>\n",
              "      <th>Age</th>\n",
              "      <th>SibSp</th>\n",
              "      <th>Parch</th>\n",
              "      <th>Ticket</th>\n",
              "      <th>Fare</th>\n",
              "      <th>Cabin</th>\n",
              "      <th>Embarked</th>\n",
              "      <th>Treatment pronouns</th>\n",
              "      <th>Relatives</th>\n",
              "    </tr>\n",
              "  </thead>\n",
              "  <tbody>\n",
              "    <tr>\n",
              "      <th>27</th>\n",
              "      <td>False</td>\n",
              "      <td>1</td>\n",
              "      <td>Fortune, Mr. Charles Alexander</td>\n",
              "      <td>male</td>\n",
              "      <td>19.0</td>\n",
              "      <td>3</td>\n",
              "      <td>2</td>\n",
              "      <td>19950</td>\n",
              "      <td>263.0</td>\n",
              "      <td>C23 C25 C27</td>\n",
              "      <td>S</td>\n",
              "      <td>Mr</td>\n",
              "      <td>True</td>\n",
              "    </tr>\n",
              "    <tr>\n",
              "      <th>88</th>\n",
              "      <td>True</td>\n",
              "      <td>1</td>\n",
              "      <td>Fortune, Miss. Mabel Helen</td>\n",
              "      <td>female</td>\n",
              "      <td>23.0</td>\n",
              "      <td>3</td>\n",
              "      <td>2</td>\n",
              "      <td>19950</td>\n",
              "      <td>263.0</td>\n",
              "      <td>C23 C25 C27</td>\n",
              "      <td>S</td>\n",
              "      <td>Miss</td>\n",
              "      <td>True</td>\n",
              "    </tr>\n",
              "    <tr>\n",
              "      <th>341</th>\n",
              "      <td>True</td>\n",
              "      <td>1</td>\n",
              "      <td>Fortune, Miss. Alice Elizabeth</td>\n",
              "      <td>female</td>\n",
              "      <td>24.0</td>\n",
              "      <td>3</td>\n",
              "      <td>2</td>\n",
              "      <td>19950</td>\n",
              "      <td>263.0</td>\n",
              "      <td>C23 C25 C27</td>\n",
              "      <td>S</td>\n",
              "      <td>Miss</td>\n",
              "      <td>True</td>\n",
              "    </tr>\n",
              "    <tr>\n",
              "      <th>438</th>\n",
              "      <td>False</td>\n",
              "      <td>1</td>\n",
              "      <td>Fortune, Mr. Mark</td>\n",
              "      <td>male</td>\n",
              "      <td>64.0</td>\n",
              "      <td>1</td>\n",
              "      <td>4</td>\n",
              "      <td>19950</td>\n",
              "      <td>263.0</td>\n",
              "      <td>C23 C25 C27</td>\n",
              "      <td>S</td>\n",
              "      <td>Mr</td>\n",
              "      <td>True</td>\n",
              "    </tr>\n",
              "  </tbody>\n",
              "</table>\n",
              "</div>\n",
              "      <button class=\"colab-df-convert\" onclick=\"convertToInteractive('df-e31cc1bc-3c7f-412f-9481-361994ffd8a8')\"\n",
              "              title=\"Convert this dataframe to an interactive table.\"\n",
              "              style=\"display:none;\">\n",
              "        \n",
              "  <svg xmlns=\"http://www.w3.org/2000/svg\" height=\"24px\"viewBox=\"0 0 24 24\"\n",
              "       width=\"24px\">\n",
              "    <path d=\"M0 0h24v24H0V0z\" fill=\"none\"/>\n",
              "    <path d=\"M18.56 5.44l.94 2.06.94-2.06 2.06-.94-2.06-.94-.94-2.06-.94 2.06-2.06.94zm-11 1L8.5 8.5l.94-2.06 2.06-.94-2.06-.94L8.5 2.5l-.94 2.06-2.06.94zm10 10l.94 2.06.94-2.06 2.06-.94-2.06-.94-.94-2.06-.94 2.06-2.06.94z\"/><path d=\"M17.41 7.96l-1.37-1.37c-.4-.4-.92-.59-1.43-.59-.52 0-1.04.2-1.43.59L10.3 9.45l-7.72 7.72c-.78.78-.78 2.05 0 2.83L4 21.41c.39.39.9.59 1.41.59.51 0 1.02-.2 1.41-.59l7.78-7.78 2.81-2.81c.8-.78.8-2.07 0-2.86zM5.41 20L4 18.59l7.72-7.72 1.47 1.35L5.41 20z\"/>\n",
              "  </svg>\n",
              "      </button>\n",
              "      \n",
              "  <style>\n",
              "    .colab-df-container {\n",
              "      display:flex;\n",
              "      flex-wrap:wrap;\n",
              "      gap: 12px;\n",
              "    }\n",
              "\n",
              "    .colab-df-convert {\n",
              "      background-color: #E8F0FE;\n",
              "      border: none;\n",
              "      border-radius: 50%;\n",
              "      cursor: pointer;\n",
              "      display: none;\n",
              "      fill: #1967D2;\n",
              "      height: 32px;\n",
              "      padding: 0 0 0 0;\n",
              "      width: 32px;\n",
              "    }\n",
              "\n",
              "    .colab-df-convert:hover {\n",
              "      background-color: #E2EBFA;\n",
              "      box-shadow: 0px 1px 2px rgba(60, 64, 67, 0.3), 0px 1px 3px 1px rgba(60, 64, 67, 0.15);\n",
              "      fill: #174EA6;\n",
              "    }\n",
              "\n",
              "    [theme=dark] .colab-df-convert {\n",
              "      background-color: #3B4455;\n",
              "      fill: #D2E3FC;\n",
              "    }\n",
              "\n",
              "    [theme=dark] .colab-df-convert:hover {\n",
              "      background-color: #434B5C;\n",
              "      box-shadow: 0px 1px 3px 1px rgba(0, 0, 0, 0.15);\n",
              "      filter: drop-shadow(0px 1px 2px rgba(0, 0, 0, 0.3));\n",
              "      fill: #FFFFFF;\n",
              "    }\n",
              "  </style>\n",
              "\n",
              "      <script>\n",
              "        const buttonEl =\n",
              "          document.querySelector('#df-e31cc1bc-3c7f-412f-9481-361994ffd8a8 button.colab-df-convert');\n",
              "        buttonEl.style.display =\n",
              "          google.colab.kernel.accessAllowed ? 'block' : 'none';\n",
              "\n",
              "        async function convertToInteractive(key) {\n",
              "          const element = document.querySelector('#df-e31cc1bc-3c7f-412f-9481-361994ffd8a8');\n",
              "          const dataTable =\n",
              "            await google.colab.kernel.invokeFunction('convertToInteractive',\n",
              "                                                     [key], {});\n",
              "          if (!dataTable) return;\n",
              "\n",
              "          const docLinkHtml = 'Like what you see? Visit the ' +\n",
              "            '<a target=\"_blank\" href=https://colab.research.google.com/notebooks/data_table.ipynb>data table notebook</a>'\n",
              "            + ' to learn more about interactive tables.';\n",
              "          element.innerHTML = '';\n",
              "          dataTable['output_type'] = 'display_data';\n",
              "          await google.colab.output.renderOutput(dataTable, element);\n",
              "          const docLink = document.createElement('div');\n",
              "          docLink.innerHTML = docLinkHtml;\n",
              "          element.appendChild(docLink);\n",
              "        }\n",
              "      </script>\n",
              "    </div>\n",
              "  </div>\n",
              "  "
            ]
          },
          "metadata": {},
          "execution_count": 23
        }
      ]
    },
    {
      "cell_type": "code",
      "source": [
        "titanic_df.drop(columns='Ticket', inplace=True)"
      ],
      "metadata": {
        "id": "RR8yYdhItjuw"
      },
      "execution_count": 24,
      "outputs": []
    },
    {
      "cell_type": "code",
      "source": [
        "titanic_df.drop(columns=['Name'], inplace=True)"
      ],
      "metadata": {
        "id": "nSFys80Pl5Rv"
      },
      "execution_count": 25,
      "outputs": []
    },
    {
      "cell_type": "code",
      "source": [
        "titanic_df"
      ],
      "metadata": {
        "colab": {
          "base_uri": "https://localhost:8080/",
          "height": 423
        },
        "id": "IKj2zbnG56eD",
        "outputId": "af7813af-413c-4083-8d7f-114a2a89f857"
      },
      "execution_count": 26,
      "outputs": [
        {
          "output_type": "execute_result",
          "data": {
            "text/plain": [
              "     Survived Pclass     Sex   Age  SibSp  Parch   Fare Cabin Embarked  \\\n",
              "0       False      3    male  22.0      1      0   7.25   NaN        S   \n",
              "1        True      1  female  38.0      1      0  71.28   C85        C   \n",
              "2        True      3  female  26.0      0      0   7.92   NaN        S   \n",
              "3        True      1  female  35.0      1      0  53.10  C123        S   \n",
              "4       False      3    male  35.0      0      0   8.05   NaN        S   \n",
              "..        ...    ...     ...   ...    ...    ...    ...   ...      ...   \n",
              "886     False      2    male  27.0      0      0  13.00   NaN        S   \n",
              "887      True      1  female  19.0      0      0  30.00   B42        S   \n",
              "888     False      3  female   NaN      1      2  23.45   NaN        S   \n",
              "889      True      1    male  26.0      0      0  30.00  C148        C   \n",
              "890     False      3    male  32.0      0      0   7.75   NaN        Q   \n",
              "\n",
              "    Treatment pronouns  Relatives  \n",
              "0                   Mr       True  \n",
              "1                  Mrs       True  \n",
              "2                 Miss      False  \n",
              "3                  Mrs       True  \n",
              "4                   Mr      False  \n",
              "..                 ...        ...  \n",
              "886                Rev      False  \n",
              "887               Miss      False  \n",
              "888               Miss       True  \n",
              "889                 Mr      False  \n",
              "890                 Mr      False  \n",
              "\n",
              "[891 rows x 11 columns]"
            ],
            "text/html": [
              "\n",
              "  <div id=\"df-e96aa5ca-93de-4b78-ade3-4cad5526e5d1\">\n",
              "    <div class=\"colab-df-container\">\n",
              "      <div>\n",
              "<style scoped>\n",
              "    .dataframe tbody tr th:only-of-type {\n",
              "        vertical-align: middle;\n",
              "    }\n",
              "\n",
              "    .dataframe tbody tr th {\n",
              "        vertical-align: top;\n",
              "    }\n",
              "\n",
              "    .dataframe thead th {\n",
              "        text-align: right;\n",
              "    }\n",
              "</style>\n",
              "<table border=\"1\" class=\"dataframe\">\n",
              "  <thead>\n",
              "    <tr style=\"text-align: right;\">\n",
              "      <th></th>\n",
              "      <th>Survived</th>\n",
              "      <th>Pclass</th>\n",
              "      <th>Sex</th>\n",
              "      <th>Age</th>\n",
              "      <th>SibSp</th>\n",
              "      <th>Parch</th>\n",
              "      <th>Fare</th>\n",
              "      <th>Cabin</th>\n",
              "      <th>Embarked</th>\n",
              "      <th>Treatment pronouns</th>\n",
              "      <th>Relatives</th>\n",
              "    </tr>\n",
              "  </thead>\n",
              "  <tbody>\n",
              "    <tr>\n",
              "      <th>0</th>\n",
              "      <td>False</td>\n",
              "      <td>3</td>\n",
              "      <td>male</td>\n",
              "      <td>22.0</td>\n",
              "      <td>1</td>\n",
              "      <td>0</td>\n",
              "      <td>7.25</td>\n",
              "      <td>NaN</td>\n",
              "      <td>S</td>\n",
              "      <td>Mr</td>\n",
              "      <td>True</td>\n",
              "    </tr>\n",
              "    <tr>\n",
              "      <th>1</th>\n",
              "      <td>True</td>\n",
              "      <td>1</td>\n",
              "      <td>female</td>\n",
              "      <td>38.0</td>\n",
              "      <td>1</td>\n",
              "      <td>0</td>\n",
              "      <td>71.28</td>\n",
              "      <td>C85</td>\n",
              "      <td>C</td>\n",
              "      <td>Mrs</td>\n",
              "      <td>True</td>\n",
              "    </tr>\n",
              "    <tr>\n",
              "      <th>2</th>\n",
              "      <td>True</td>\n",
              "      <td>3</td>\n",
              "      <td>female</td>\n",
              "      <td>26.0</td>\n",
              "      <td>0</td>\n",
              "      <td>0</td>\n",
              "      <td>7.92</td>\n",
              "      <td>NaN</td>\n",
              "      <td>S</td>\n",
              "      <td>Miss</td>\n",
              "      <td>False</td>\n",
              "    </tr>\n",
              "    <tr>\n",
              "      <th>3</th>\n",
              "      <td>True</td>\n",
              "      <td>1</td>\n",
              "      <td>female</td>\n",
              "      <td>35.0</td>\n",
              "      <td>1</td>\n",
              "      <td>0</td>\n",
              "      <td>53.10</td>\n",
              "      <td>C123</td>\n",
              "      <td>S</td>\n",
              "      <td>Mrs</td>\n",
              "      <td>True</td>\n",
              "    </tr>\n",
              "    <tr>\n",
              "      <th>4</th>\n",
              "      <td>False</td>\n",
              "      <td>3</td>\n",
              "      <td>male</td>\n",
              "      <td>35.0</td>\n",
              "      <td>0</td>\n",
              "      <td>0</td>\n",
              "      <td>8.05</td>\n",
              "      <td>NaN</td>\n",
              "      <td>S</td>\n",
              "      <td>Mr</td>\n",
              "      <td>False</td>\n",
              "    </tr>\n",
              "    <tr>\n",
              "      <th>...</th>\n",
              "      <td>...</td>\n",
              "      <td>...</td>\n",
              "      <td>...</td>\n",
              "      <td>...</td>\n",
              "      <td>...</td>\n",
              "      <td>...</td>\n",
              "      <td>...</td>\n",
              "      <td>...</td>\n",
              "      <td>...</td>\n",
              "      <td>...</td>\n",
              "      <td>...</td>\n",
              "    </tr>\n",
              "    <tr>\n",
              "      <th>886</th>\n",
              "      <td>False</td>\n",
              "      <td>2</td>\n",
              "      <td>male</td>\n",
              "      <td>27.0</td>\n",
              "      <td>0</td>\n",
              "      <td>0</td>\n",
              "      <td>13.00</td>\n",
              "      <td>NaN</td>\n",
              "      <td>S</td>\n",
              "      <td>Rev</td>\n",
              "      <td>False</td>\n",
              "    </tr>\n",
              "    <tr>\n",
              "      <th>887</th>\n",
              "      <td>True</td>\n",
              "      <td>1</td>\n",
              "      <td>female</td>\n",
              "      <td>19.0</td>\n",
              "      <td>0</td>\n",
              "      <td>0</td>\n",
              "      <td>30.00</td>\n",
              "      <td>B42</td>\n",
              "      <td>S</td>\n",
              "      <td>Miss</td>\n",
              "      <td>False</td>\n",
              "    </tr>\n",
              "    <tr>\n",
              "      <th>888</th>\n",
              "      <td>False</td>\n",
              "      <td>3</td>\n",
              "      <td>female</td>\n",
              "      <td>NaN</td>\n",
              "      <td>1</td>\n",
              "      <td>2</td>\n",
              "      <td>23.45</td>\n",
              "      <td>NaN</td>\n",
              "      <td>S</td>\n",
              "      <td>Miss</td>\n",
              "      <td>True</td>\n",
              "    </tr>\n",
              "    <tr>\n",
              "      <th>889</th>\n",
              "      <td>True</td>\n",
              "      <td>1</td>\n",
              "      <td>male</td>\n",
              "      <td>26.0</td>\n",
              "      <td>0</td>\n",
              "      <td>0</td>\n",
              "      <td>30.00</td>\n",
              "      <td>C148</td>\n",
              "      <td>C</td>\n",
              "      <td>Mr</td>\n",
              "      <td>False</td>\n",
              "    </tr>\n",
              "    <tr>\n",
              "      <th>890</th>\n",
              "      <td>False</td>\n",
              "      <td>3</td>\n",
              "      <td>male</td>\n",
              "      <td>32.0</td>\n",
              "      <td>0</td>\n",
              "      <td>0</td>\n",
              "      <td>7.75</td>\n",
              "      <td>NaN</td>\n",
              "      <td>Q</td>\n",
              "      <td>Mr</td>\n",
              "      <td>False</td>\n",
              "    </tr>\n",
              "  </tbody>\n",
              "</table>\n",
              "<p>891 rows × 11 columns</p>\n",
              "</div>\n",
              "      <button class=\"colab-df-convert\" onclick=\"convertToInteractive('df-e96aa5ca-93de-4b78-ade3-4cad5526e5d1')\"\n",
              "              title=\"Convert this dataframe to an interactive table.\"\n",
              "              style=\"display:none;\">\n",
              "        \n",
              "  <svg xmlns=\"http://www.w3.org/2000/svg\" height=\"24px\"viewBox=\"0 0 24 24\"\n",
              "       width=\"24px\">\n",
              "    <path d=\"M0 0h24v24H0V0z\" fill=\"none\"/>\n",
              "    <path d=\"M18.56 5.44l.94 2.06.94-2.06 2.06-.94-2.06-.94-.94-2.06-.94 2.06-2.06.94zm-11 1L8.5 8.5l.94-2.06 2.06-.94-2.06-.94L8.5 2.5l-.94 2.06-2.06.94zm10 10l.94 2.06.94-2.06 2.06-.94-2.06-.94-.94-2.06-.94 2.06-2.06.94z\"/><path d=\"M17.41 7.96l-1.37-1.37c-.4-.4-.92-.59-1.43-.59-.52 0-1.04.2-1.43.59L10.3 9.45l-7.72 7.72c-.78.78-.78 2.05 0 2.83L4 21.41c.39.39.9.59 1.41.59.51 0 1.02-.2 1.41-.59l7.78-7.78 2.81-2.81c.8-.78.8-2.07 0-2.86zM5.41 20L4 18.59l7.72-7.72 1.47 1.35L5.41 20z\"/>\n",
              "  </svg>\n",
              "      </button>\n",
              "      \n",
              "  <style>\n",
              "    .colab-df-container {\n",
              "      display:flex;\n",
              "      flex-wrap:wrap;\n",
              "      gap: 12px;\n",
              "    }\n",
              "\n",
              "    .colab-df-convert {\n",
              "      background-color: #E8F0FE;\n",
              "      border: none;\n",
              "      border-radius: 50%;\n",
              "      cursor: pointer;\n",
              "      display: none;\n",
              "      fill: #1967D2;\n",
              "      height: 32px;\n",
              "      padding: 0 0 0 0;\n",
              "      width: 32px;\n",
              "    }\n",
              "\n",
              "    .colab-df-convert:hover {\n",
              "      background-color: #E2EBFA;\n",
              "      box-shadow: 0px 1px 2px rgba(60, 64, 67, 0.3), 0px 1px 3px 1px rgba(60, 64, 67, 0.15);\n",
              "      fill: #174EA6;\n",
              "    }\n",
              "\n",
              "    [theme=dark] .colab-df-convert {\n",
              "      background-color: #3B4455;\n",
              "      fill: #D2E3FC;\n",
              "    }\n",
              "\n",
              "    [theme=dark] .colab-df-convert:hover {\n",
              "      background-color: #434B5C;\n",
              "      box-shadow: 0px 1px 3px 1px rgba(0, 0, 0, 0.15);\n",
              "      filter: drop-shadow(0px 1px 2px rgba(0, 0, 0, 0.3));\n",
              "      fill: #FFFFFF;\n",
              "    }\n",
              "  </style>\n",
              "\n",
              "      <script>\n",
              "        const buttonEl =\n",
              "          document.querySelector('#df-e96aa5ca-93de-4b78-ade3-4cad5526e5d1 button.colab-df-convert');\n",
              "        buttonEl.style.display =\n",
              "          google.colab.kernel.accessAllowed ? 'block' : 'none';\n",
              "\n",
              "        async function convertToInteractive(key) {\n",
              "          const element = document.querySelector('#df-e96aa5ca-93de-4b78-ade3-4cad5526e5d1');\n",
              "          const dataTable =\n",
              "            await google.colab.kernel.invokeFunction('convertToInteractive',\n",
              "                                                     [key], {});\n",
              "          if (!dataTable) return;\n",
              "\n",
              "          const docLinkHtml = 'Like what you see? Visit the ' +\n",
              "            '<a target=\"_blank\" href=https://colab.research.google.com/notebooks/data_table.ipynb>data table notebook</a>'\n",
              "            + ' to learn more about interactive tables.';\n",
              "          element.innerHTML = '';\n",
              "          dataTable['output_type'] = 'display_data';\n",
              "          await google.colab.output.renderOutput(dataTable, element);\n",
              "          const docLink = document.createElement('div');\n",
              "          docLink.innerHTML = docLinkHtml;\n",
              "          element.appendChild(docLink);\n",
              "        }\n",
              "      </script>\n",
              "    </div>\n",
              "  </div>\n",
              "  "
            ]
          },
          "metadata": {},
          "execution_count": 26
        }
      ]
    },
    {
      "cell_type": "markdown",
      "source": [
        "#Análise Exploratória"
      ],
      "metadata": {
        "id": "351w-zS2tY1x"
      }
    },
    {
      "cell_type": "markdown",
      "source": [
        "## Dados Nulos"
      ],
      "metadata": {
        "id": "0y_Eis1S6CrI"
      }
    },
    {
      "cell_type": "code",
      "source": [
        "titanic_df.isnull().sum()"
      ],
      "metadata": {
        "id": "VaW6cACViF20",
        "colab": {
          "base_uri": "https://localhost:8080/"
        },
        "outputId": "46c0c047-3662-4bdc-c96b-dba38ce4f418"
      },
      "execution_count": 27,
      "outputs": [
        {
          "output_type": "execute_result",
          "data": {
            "text/plain": [
              "Survived                0\n",
              "Pclass                  0\n",
              "Sex                     0\n",
              "Age                   177\n",
              "SibSp                   0\n",
              "Parch                   0\n",
              "Fare                    0\n",
              "Cabin                 687\n",
              "Embarked                2\n",
              "Treatment pronouns      0\n",
              "Relatives               0\n",
              "dtype: int64"
            ]
          },
          "metadata": {},
          "execution_count": 27
        }
      ]
    },
    {
      "cell_type": "markdown",
      "source": [
        "## Estatísticas Descritivas"
      ],
      "metadata": {
        "id": "fvXY2GmO6H8g"
      }
    },
    {
      "cell_type": "code",
      "source": [
        "titanic_df.describe()"
      ],
      "metadata": {
        "id": "ik5DWdLZliND",
        "colab": {
          "base_uri": "https://localhost:8080/",
          "height": 394
        },
        "outputId": "c08ce7e4-f052-4a89-8871-bba5cd56d6cf"
      },
      "execution_count": 28,
      "outputs": [
        {
          "output_type": "execute_result",
          "data": {
            "text/plain": [
              "       Survived     Age   SibSp   Parch    Fare\n",
              "count       891  714.00  891.00  891.00  891.00\n",
              "unique        2     NaN     NaN     NaN     NaN\n",
              "top       False     NaN     NaN     NaN     NaN\n",
              "freq        549     NaN     NaN     NaN     NaN\n",
              "mean        NaN   29.70    0.52    0.38   32.20\n",
              "std         NaN   14.53    1.10    0.81   49.69\n",
              "min         NaN    0.42    0.00    0.00    0.00\n",
              "25%         NaN   20.12    0.00    0.00    7.91\n",
              "50%         NaN   28.00    0.00    0.00   14.45\n",
              "75%         NaN   38.00    1.00    0.00   31.00\n",
              "max         NaN   80.00    8.00    6.00  512.33"
            ],
            "text/html": [
              "\n",
              "  <div id=\"df-5ef1ec49-518f-42e9-bc06-48ef9615e509\">\n",
              "    <div class=\"colab-df-container\">\n",
              "      <div>\n",
              "<style scoped>\n",
              "    .dataframe tbody tr th:only-of-type {\n",
              "        vertical-align: middle;\n",
              "    }\n",
              "\n",
              "    .dataframe tbody tr th {\n",
              "        vertical-align: top;\n",
              "    }\n",
              "\n",
              "    .dataframe thead th {\n",
              "        text-align: right;\n",
              "    }\n",
              "</style>\n",
              "<table border=\"1\" class=\"dataframe\">\n",
              "  <thead>\n",
              "    <tr style=\"text-align: right;\">\n",
              "      <th></th>\n",
              "      <th>Survived</th>\n",
              "      <th>Age</th>\n",
              "      <th>SibSp</th>\n",
              "      <th>Parch</th>\n",
              "      <th>Fare</th>\n",
              "    </tr>\n",
              "  </thead>\n",
              "  <tbody>\n",
              "    <tr>\n",
              "      <th>count</th>\n",
              "      <td>891</td>\n",
              "      <td>714.00</td>\n",
              "      <td>891.00</td>\n",
              "      <td>891.00</td>\n",
              "      <td>891.00</td>\n",
              "    </tr>\n",
              "    <tr>\n",
              "      <th>unique</th>\n",
              "      <td>2</td>\n",
              "      <td>NaN</td>\n",
              "      <td>NaN</td>\n",
              "      <td>NaN</td>\n",
              "      <td>NaN</td>\n",
              "    </tr>\n",
              "    <tr>\n",
              "      <th>top</th>\n",
              "      <td>False</td>\n",
              "      <td>NaN</td>\n",
              "      <td>NaN</td>\n",
              "      <td>NaN</td>\n",
              "      <td>NaN</td>\n",
              "    </tr>\n",
              "    <tr>\n",
              "      <th>freq</th>\n",
              "      <td>549</td>\n",
              "      <td>NaN</td>\n",
              "      <td>NaN</td>\n",
              "      <td>NaN</td>\n",
              "      <td>NaN</td>\n",
              "    </tr>\n",
              "    <tr>\n",
              "      <th>mean</th>\n",
              "      <td>NaN</td>\n",
              "      <td>29.70</td>\n",
              "      <td>0.52</td>\n",
              "      <td>0.38</td>\n",
              "      <td>32.20</td>\n",
              "    </tr>\n",
              "    <tr>\n",
              "      <th>std</th>\n",
              "      <td>NaN</td>\n",
              "      <td>14.53</td>\n",
              "      <td>1.10</td>\n",
              "      <td>0.81</td>\n",
              "      <td>49.69</td>\n",
              "    </tr>\n",
              "    <tr>\n",
              "      <th>min</th>\n",
              "      <td>NaN</td>\n",
              "      <td>0.42</td>\n",
              "      <td>0.00</td>\n",
              "      <td>0.00</td>\n",
              "      <td>0.00</td>\n",
              "    </tr>\n",
              "    <tr>\n",
              "      <th>25%</th>\n",
              "      <td>NaN</td>\n",
              "      <td>20.12</td>\n",
              "      <td>0.00</td>\n",
              "      <td>0.00</td>\n",
              "      <td>7.91</td>\n",
              "    </tr>\n",
              "    <tr>\n",
              "      <th>50%</th>\n",
              "      <td>NaN</td>\n",
              "      <td>28.00</td>\n",
              "      <td>0.00</td>\n",
              "      <td>0.00</td>\n",
              "      <td>14.45</td>\n",
              "    </tr>\n",
              "    <tr>\n",
              "      <th>75%</th>\n",
              "      <td>NaN</td>\n",
              "      <td>38.00</td>\n",
              "      <td>1.00</td>\n",
              "      <td>0.00</td>\n",
              "      <td>31.00</td>\n",
              "    </tr>\n",
              "    <tr>\n",
              "      <th>max</th>\n",
              "      <td>NaN</td>\n",
              "      <td>80.00</td>\n",
              "      <td>8.00</td>\n",
              "      <td>6.00</td>\n",
              "      <td>512.33</td>\n",
              "    </tr>\n",
              "  </tbody>\n",
              "</table>\n",
              "</div>\n",
              "      <button class=\"colab-df-convert\" onclick=\"convertToInteractive('df-5ef1ec49-518f-42e9-bc06-48ef9615e509')\"\n",
              "              title=\"Convert this dataframe to an interactive table.\"\n",
              "              style=\"display:none;\">\n",
              "        \n",
              "  <svg xmlns=\"http://www.w3.org/2000/svg\" height=\"24px\"viewBox=\"0 0 24 24\"\n",
              "       width=\"24px\">\n",
              "    <path d=\"M0 0h24v24H0V0z\" fill=\"none\"/>\n",
              "    <path d=\"M18.56 5.44l.94 2.06.94-2.06 2.06-.94-2.06-.94-.94-2.06-.94 2.06-2.06.94zm-11 1L8.5 8.5l.94-2.06 2.06-.94-2.06-.94L8.5 2.5l-.94 2.06-2.06.94zm10 10l.94 2.06.94-2.06 2.06-.94-2.06-.94-.94-2.06-.94 2.06-2.06.94z\"/><path d=\"M17.41 7.96l-1.37-1.37c-.4-.4-.92-.59-1.43-.59-.52 0-1.04.2-1.43.59L10.3 9.45l-7.72 7.72c-.78.78-.78 2.05 0 2.83L4 21.41c.39.39.9.59 1.41.59.51 0 1.02-.2 1.41-.59l7.78-7.78 2.81-2.81c.8-.78.8-2.07 0-2.86zM5.41 20L4 18.59l7.72-7.72 1.47 1.35L5.41 20z\"/>\n",
              "  </svg>\n",
              "      </button>\n",
              "      \n",
              "  <style>\n",
              "    .colab-df-container {\n",
              "      display:flex;\n",
              "      flex-wrap:wrap;\n",
              "      gap: 12px;\n",
              "    }\n",
              "\n",
              "    .colab-df-convert {\n",
              "      background-color: #E8F0FE;\n",
              "      border: none;\n",
              "      border-radius: 50%;\n",
              "      cursor: pointer;\n",
              "      display: none;\n",
              "      fill: #1967D2;\n",
              "      height: 32px;\n",
              "      padding: 0 0 0 0;\n",
              "      width: 32px;\n",
              "    }\n",
              "\n",
              "    .colab-df-convert:hover {\n",
              "      background-color: #E2EBFA;\n",
              "      box-shadow: 0px 1px 2px rgba(60, 64, 67, 0.3), 0px 1px 3px 1px rgba(60, 64, 67, 0.15);\n",
              "      fill: #174EA6;\n",
              "    }\n",
              "\n",
              "    [theme=dark] .colab-df-convert {\n",
              "      background-color: #3B4455;\n",
              "      fill: #D2E3FC;\n",
              "    }\n",
              "\n",
              "    [theme=dark] .colab-df-convert:hover {\n",
              "      background-color: #434B5C;\n",
              "      box-shadow: 0px 1px 3px 1px rgba(0, 0, 0, 0.15);\n",
              "      filter: drop-shadow(0px 1px 2px rgba(0, 0, 0, 0.3));\n",
              "      fill: #FFFFFF;\n",
              "    }\n",
              "  </style>\n",
              "\n",
              "      <script>\n",
              "        const buttonEl =\n",
              "          document.querySelector('#df-5ef1ec49-518f-42e9-bc06-48ef9615e509 button.colab-df-convert');\n",
              "        buttonEl.style.display =\n",
              "          google.colab.kernel.accessAllowed ? 'block' : 'none';\n",
              "\n",
              "        async function convertToInteractive(key) {\n",
              "          const element = document.querySelector('#df-5ef1ec49-518f-42e9-bc06-48ef9615e509');\n",
              "          const dataTable =\n",
              "            await google.colab.kernel.invokeFunction('convertToInteractive',\n",
              "                                                     [key], {});\n",
              "          if (!dataTable) return;\n",
              "\n",
              "          const docLinkHtml = 'Like what you see? Visit the ' +\n",
              "            '<a target=\"_blank\" href=https://colab.research.google.com/notebooks/data_table.ipynb>data table notebook</a>'\n",
              "            + ' to learn more about interactive tables.';\n",
              "          element.innerHTML = '';\n",
              "          dataTable['output_type'] = 'display_data';\n",
              "          await google.colab.output.renderOutput(dataTable, element);\n",
              "          const docLink = document.createElement('div');\n",
              "          docLink.innerHTML = docLinkHtml;\n",
              "          element.appendChild(docLink);\n",
              "        }\n",
              "      </script>\n",
              "    </div>\n",
              "  </div>\n",
              "  "
            ]
          },
          "metadata": {},
          "execution_count": 28
        }
      ]
    },
    {
      "cell_type": "code",
      "source": [
        "titanic_df['Pclass'].value_counts()"
      ],
      "metadata": {
        "id": "QG-ZfXiRtJ7K",
        "colab": {
          "base_uri": "https://localhost:8080/"
        },
        "outputId": "8f6a3eab-256a-41fd-ddf8-ec9213b37913"
      },
      "execution_count": 29,
      "outputs": [
        {
          "output_type": "execute_result",
          "data": {
            "text/plain": [
              "3    491\n",
              "1    216\n",
              "2    184\n",
              "Name: Pclass, dtype: int64"
            ]
          },
          "metadata": {},
          "execution_count": 29
        }
      ]
    },
    {
      "cell_type": "code",
      "source": [
        "titanic_df['Sex'].value_counts()"
      ],
      "metadata": {
        "id": "HoGMMdTau9g5",
        "colab": {
          "base_uri": "https://localhost:8080/"
        },
        "outputId": "edfc1c86-ac91-4e6d-e338-1def7346020d"
      },
      "execution_count": 30,
      "outputs": [
        {
          "output_type": "execute_result",
          "data": {
            "text/plain": [
              "male      577\n",
              "female    314\n",
              "Name: Sex, dtype: int64"
            ]
          },
          "metadata": {},
          "execution_count": 30
        }
      ]
    },
    {
      "cell_type": "markdown",
      "source": [
        "## Gráficos para Análise"
      ],
      "metadata": {
        "id": "t2p_YIuJ6Tnt"
      }
    },
    {
      "cell_type": "markdown",
      "source": [
        "###Atributo: Relatives"
      ],
      "metadata": {
        "id": "0qxeii-y9ews"
      }
    },
    {
      "cell_type": "code",
      "source": [
        "# Setando estilo padrão de gráficos\n",
        "sns.set_style(\"darkgrid\")"
      ],
      "metadata": {
        "id": "kL5M6VDYWY3l"
      },
      "execution_count": 31,
      "outputs": []
    },
    {
      "cell_type": "code",
      "source": [
        "# Proporção de passageiros que sobreviveram e morreram agrupados de acordo com se eles tinham parentes a bordo ou não.\n",
        "\n",
        "# Número de passageiros que sobreviveram para cada grupo (com parentes ou sem parentes a bordo)\n",
        "sobreviventes = list(titanic_df.groupby(['Relatives','Survived'])['Survived'].count()[:,1])\n",
        "\n",
        "# Número de passageiros que morreram para cada grupo.\n",
        "mortos = list(titanic_df.groupby(['Relatives','Survived'])['Survived'].count()[:,0])\n",
        "labels = ['without relatives','with relatives']\n",
        "\n",
        "proporcao=[]\n",
        "j=0\n",
        "\n",
        "for i in sobreviventes:\n",
        "  proporcao.append(\"{: .0f}%\".format(100*round(i/(i+mortos[j]),2)))\n",
        "  j+=1\n",
        "\n",
        "x = labels\n",
        "width = 0.5\n",
        "\n",
        "fig, ax = plt.subplots()\n",
        "ax.bar(x, sobreviventes, width, label='Survived', color = 'cornflowerblue')\n",
        "ax.bar(x, mortos, width, label='Died', bottom=sobreviventes, color = 'pink')\n",
        "\n",
        "fig.set_figheight(10)\n",
        "fig.set_figwidth(15)\n",
        "ax.set_ylabel('Passengers')\n",
        "ax.set_title('Survived x Relatives')\n",
        "ax.set_xticks(x)\n",
        "ax.set_xticklabels(labels)\n",
        "ax.legend()\n",
        "\n",
        "rects = ax.patches\n",
        "labels = proporcao\n",
        "\n",
        "for rect, label in zip(rects, labels):\n",
        "  height = rect.get_height()\n",
        "  ax.text(rect.get_x() + rect.get_width() / 2, height + 15, label, ha=\"center\", va=\"top\")"
      ],
      "metadata": {
        "colab": {
          "base_uri": "https://localhost:8080/",
          "height": 607
        },
        "id": "NsPpvT28ITA2",
        "outputId": "eba8a7a7-24d3-4f28-c4db-63547ba82c9f"
      },
      "execution_count": 32,
      "outputs": [
        {
          "output_type": "display_data",
          "data": {
            "text/plain": [
              "<Figure size 1080x720 with 1 Axes>"
            ],
            "image/png": "[encoded data removed]"
          },
          "metadata": {}
        }
      ]
    },
    {
      "cell_type": "markdown",
      "source": [
        "###Atributo: PClass"
      ],
      "metadata": {
        "id": "p_6uEogf9TsA"
      }
    },
    {
      "cell_type": "code",
      "source": [
        "titanic_df.groupby('Survived')['Pclass'].value_counts()"
      ],
      "metadata": {
        "id": "wk7-5CZkwOxo",
        "colab": {
          "base_uri": "https://localhost:8080/"
        },
        "outputId": "53029081-5482-477b-ec77-0679608072b2"
      },
      "execution_count": 33,
      "outputs": [
        {
          "output_type": "execute_result",
          "data": {
            "text/plain": [
              "Survived   \n",
              "False     3    372\n",
              "          2     97\n",
              "          1     80\n",
              "True      1    136\n",
              "          3    119\n",
              "          2     87\n",
              "Name: Pclass, dtype: int64"
            ]
          },
          "metadata": {},
          "execution_count": 33
        }
      ]
    },
    {
      "cell_type": "code",
      "source": [
        "# Função para deixar o eixo Y em formato percentual\n",
        "def to_percent(y, position):\n",
        "  return str(round(100*y)) + '%'"
      ],
      "metadata": {
        "id": "2iNRd8K77k0Q"
      },
      "execution_count": 34,
      "outputs": []
    },
    {
      "cell_type": "code",
      "source": [
        "# Proporção de sobreviventes por classe\n",
        "ax = sns.barplot(data=titanic_df, x=\"Pclass\", y=\"Survived\", ci=None)\n",
        "\n",
        "ax.yaxis.set_major_formatter(FuncFormatter(to_percent))\n",
        "\n",
        "plt.title('PClass x Survived = True')"
      ],
      "metadata": {
        "id": "KJ7fcgAJw9GB",
        "colab": {
          "base_uri": "https://localhost:8080/",
          "height": 312
        },
        "outputId": "c17a39a9-85e4-415d-f316-f4f05605f9bd"
      },
      "execution_count": 35,
      "outputs": [
        {
          "output_type": "execute_result",
          "data": {
            "text/plain": [
              "Text(0.5, 1.0, 'PClass x Survived = True')"
            ]
          },
          "metadata": {},
          "execution_count": 35
        },
        {
          "output_type": "display_data",
          "data": {
            "text/plain": [
              "<Figure size 432x288 with 1 Axes>"
            ],
            "image/png": "[encoded data removed]"
          },
          "metadata": {}
        }
      ]
    },
    {
      "cell_type": "code",
      "source": [
        "# Proporção de passageiros que sobreviveram e morreram agrupados de acordo com as classes (1ª, 2ª ou 3ª).\n",
        "sobreviventes = list(titanic_df.groupby(['Pclass','Survived'])['Survived'].count()[:,1])\n",
        "mortos = list(titanic_df.groupby(['Pclass','Survived'])['Survived'].count()[:,0])\n",
        "labels = ['1Class','2Class','3Class']\n",
        "\n",
        "proporcao=[]\n",
        "j=0\n",
        "for i in sobreviventes:\n",
        "  proporcao.append(\"{: .0f}%\".format(100*round(i/(i+mortos[j]),2)))\n",
        "  j+=1\n",
        "\n",
        "x = labels\n",
        "width = 0.5\n",
        "\n",
        "fig, ax = plt.subplots()\n",
        "ax.bar(x, sobreviventes, width, label='Survived', color = 'cornflowerblue')\n",
        "ax.bar(x, mortos, width, label='Died', bottom=sobreviventes, color = 'pink')\n",
        "\n",
        "fig.set_figheight(10)\n",
        "fig.set_figwidth(15)\n",
        "ax.set_ylabel('Passengers')\n",
        "ax.set_title('Survived x Class')\n",
        "ax.set_xticks(x)\n",
        "ax.set_xticklabels(labels)\n",
        "ax.legend()\n",
        "\n",
        "rects = ax.patches\n",
        "labels = proporcao\n",
        "\n",
        "for rect, label in zip(rects, labels):\n",
        "  height = rect.get_height()\n",
        "  ax.text(rect.get_x() + rect.get_width() / 2, height + 15, label, ha=\"center\", va=\"top\")"
      ],
      "metadata": {
        "colab": {
          "base_uri": "https://localhost:8080/",
          "height": 607
        },
        "id": "xolFP6Jsjbax",
        "outputId": "fdeaea68-b068-4f52-ee1d-6838819b626a"
      },
      "execution_count": 36,
      "outputs": [
        {
          "output_type": "display_data",
          "data": {
            "text/plain": [
              "<Figure size 1080x720 with 1 Axes>"
            ],
            "image/png": "[encoded data removed]"
          },
          "metadata": {}
        }
      ]
    },
    {
      "cell_type": "code",
      "source": [
        "titanic_df[['Pclass', 'Survived']].groupby(['Pclass'], as_index=False).count().sort_values(by='Survived')"
      ],
      "metadata": {
        "id": "NQwRsn_zuGQ6",
        "colab": {
          "base_uri": "https://localhost:8080/",
          "height": 143
        },
        "outputId": "4fa5cfb6-2d18-4f02-95b9-5f9d32906425"
      },
      "execution_count": 37,
      "outputs": [
        {
          "output_type": "execute_result",
          "data": {
            "text/plain": [
              "  Pclass  Survived\n",
              "1      2       184\n",
              "0      1       216\n",
              "2      3       491"
            ],
            "text/html": [
              "\n",
              "  <div id=\"df-8f8863be-eff7-4c65-b135-d57a7c630123\">\n",
              "    <div class=\"colab-df-container\">\n",
              "      <div>\n",
              "<style scoped>\n",
              "    .dataframe tbody tr th:only-of-type {\n",
              "        vertical-align: middle;\n",
              "    }\n",
              "\n",
              "    .dataframe tbody tr th {\n",
              "        vertical-align: top;\n",
              "    }\n",
              "\n",
              "    .dataframe thead th {\n",
              "        text-align: right;\n",
              "    }\n",
              "</style>\n",
              "<table border=\"1\" class=\"dataframe\">\n",
              "  <thead>\n",
              "    <tr style=\"text-align: right;\">\n",
              "      <th></th>\n",
              "      <th>Pclass</th>\n",
              "      <th>Survived</th>\n",
              "    </tr>\n",
              "  </thead>\n",
              "  <tbody>\n",
              "    <tr>\n",
              "      <th>1</th>\n",
              "      <td>2</td>\n",
              "      <td>184</td>\n",
              "    </tr>\n",
              "    <tr>\n",
              "      <th>0</th>\n",
              "      <td>1</td>\n",
              "      <td>216</td>\n",
              "    </tr>\n",
              "    <tr>\n",
              "      <th>2</th>\n",
              "      <td>3</td>\n",
              "      <td>491</td>\n",
              "    </tr>\n",
              "  </tbody>\n",
              "</table>\n",
              "</div>\n",
              "      <button class=\"colab-df-convert\" onclick=\"convertToInteractive('df-8f8863be-eff7-4c65-b135-d57a7c630123')\"\n",
              "              title=\"Convert this dataframe to an interactive table.\"\n",
              "              style=\"display:none;\">\n",
              "        \n",
              "  <svg xmlns=\"http://www.w3.org/2000/svg\" height=\"24px\"viewBox=\"0 0 24 24\"\n",
              "       width=\"24px\">\n",
              "    <path d=\"M0 0h24v24H0V0z\" fill=\"none\"/>\n",
              "    <path d=\"M18.56 5.44l.94 2.06.94-2.06 2.06-.94-2.06-.94-.94-2.06-.94 2.06-2.06.94zm-11 1L8.5 8.5l.94-2.06 2.06-.94-2.06-.94L8.5 2.5l-.94 2.06-2.06.94zm10 10l.94 2.06.94-2.06 2.06-.94-2.06-.94-.94-2.06-.94 2.06-2.06.94z\"/><path d=\"M17.41 7.96l-1.37-1.37c-.4-.4-.92-.59-1.43-.59-.52 0-1.04.2-1.43.59L10.3 9.45l-7.72 7.72c-.78.78-.78 2.05 0 2.83L4 21.41c.39.39.9.59 1.41.59.51 0 1.02-.2 1.41-.59l7.78-7.78 2.81-2.81c.8-.78.8-2.07 0-2.86zM5.41 20L4 18.59l7.72-7.72 1.47 1.35L5.41 20z\"/>\n",
              "  </svg>\n",
              "      </button>\n",
              "      \n",
              "  <style>\n",
              "    .colab-df-container {\n",
              "      display:flex;\n",
              "      flex-wrap:wrap;\n",
              "      gap: 12px;\n",
              "    }\n",
              "\n",
              "    .colab-df-convert {\n",
              "      background-color: #E8F0FE;\n",
              "      border: none;\n",
              "      border-radius: 50%;\n",
              "      cursor: pointer;\n",
              "      display: none;\n",
              "      fill: #1967D2;\n",
              "      height: 32px;\n",
              "      padding: 0 0 0 0;\n",
              "      width: 32px;\n",
              "    }\n",
              "\n",
              "    .colab-df-convert:hover {\n",
              "      background-color: #E2EBFA;\n",
              "      box-shadow: 0px 1px 2px rgba(60, 64, 67, 0.3), 0px 1px 3px 1px rgba(60, 64, 67, 0.15);\n",
              "      fill: #174EA6;\n",
              "    }\n",
              "\n",
              "    [theme=dark] .colab-df-convert {\n",
              "      background-color: #3B4455;\n",
              "      fill: #D2E3FC;\n",
              "    }\n",
              "\n",
              "    [theme=dark] .colab-df-convert:hover {\n",
              "      background-color: #434B5C;\n",
              "      box-shadow: 0px 1px 3px 1px rgba(0, 0, 0, 0.15);\n",
              "      filter: drop-shadow(0px 1px 2px rgba(0, 0, 0, 0.3));\n",
              "      fill: #FFFFFF;\n",
              "    }\n",
              "  </style>\n",
              "\n",
              "      <script>\n",
              "        const buttonEl =\n",
              "          document.querySelector('#df-8f8863be-eff7-4c65-b135-d57a7c630123 button.colab-df-convert');\n",
              "        buttonEl.style.display =\n",
              "          google.colab.kernel.accessAllowed ? 'block' : 'none';\n",
              "\n",
              "        async function convertToInteractive(key) {\n",
              "          const element = document.querySelector('#df-8f8863be-eff7-4c65-b135-d57a7c630123');\n",
              "          const dataTable =\n",
              "            await google.colab.kernel.invokeFunction('convertToInteractive',\n",
              "                                                     [key], {});\n",
              "          if (!dataTable) return;\n",
              "\n",
              "          const docLinkHtml = 'Like what you see? Visit the ' +\n",
              "            '<a target=\"_blank\" href=https://colab.research.google.com/notebooks/data_table.ipynb>data table notebook</a>'\n",
              "            + ' to learn more about interactive tables.';\n",
              "          element.innerHTML = '';\n",
              "          dataTable['output_type'] = 'display_data';\n",
              "          await google.colab.output.renderOutput(dataTable, element);\n",
              "          const docLink = document.createElement('div');\n",
              "          docLink.innerHTML = docLinkHtml;\n",
              "          element.appendChild(docLink);\n",
              "        }\n",
              "      </script>\n",
              "    </div>\n",
              "  </div>\n",
              "  "
            ]
          },
          "metadata": {},
          "execution_count": 37
        }
      ]
    },
    {
      "cell_type": "markdown",
      "source": [
        "###Atributo: Embarked"
      ],
      "metadata": {
        "id": "oGkS1XwU9jLe"
      }
    },
    {
      "cell_type": "code",
      "source": [
        "# Proporção de passageiros que sobreviveram mediante a cidade de embarque\n",
        "ax = sns.barplot(data=titanic_df, x=\"Embarked\", y=\"Survived\", ci=None)\n",
        "ax.yaxis.set_major_formatter(FuncFormatter(to_percent))\n",
        "\n",
        "plt.title('Embarked x Survived = True')"
      ],
      "metadata": {
        "id": "bwAAZj1-u-R4",
        "colab": {
          "base_uri": "https://localhost:8080/",
          "height": 312
        },
        "outputId": "b77aabc9-09e2-4d8d-827f-df8aaa24ce36"
      },
      "execution_count": 38,
      "outputs": [
        {
          "output_type": "execute_result",
          "data": {
            "text/plain": [
              "Text(0.5, 1.0, 'Embarked x Survived = True')"
            ]
          },
          "metadata": {},
          "execution_count": 38
        },
        {
          "output_type": "display_data",
          "data": {
            "text/plain": [
              "<Figure size 432x288 with 1 Axes>"
            ],
            "image/png": "[encoded data removed]"
          },
          "metadata": {}
        }
      ]
    },
    {
      "cell_type": "markdown",
      "source": [
        "###Atributo: Sex"
      ],
      "metadata": {
        "id": "Q60TgAp69lZg"
      }
    },
    {
      "cell_type": "code",
      "source": [
        "# Proporção de passageiros que sobreviveram baseado no sexo.\n",
        "ax = sns.barplot(data=titanic_df, x=\"Sex\", y=\"Survived\", ci=None)\n",
        "\n",
        "ax.yaxis.set_major_formatter(FuncFormatter(to_percent))\n",
        "\n",
        "plt.title('Sex x Survived = True')"
      ],
      "metadata": {
        "id": "fqrd390xvN8c",
        "colab": {
          "base_uri": "https://localhost:8080/",
          "height": 312
        },
        "outputId": "bd248012-fe47-4c08-d8d9-6d1f99ae40c4"
      },
      "execution_count": 39,
      "outputs": [
        {
          "output_type": "execute_result",
          "data": {
            "text/plain": [
              "Text(0.5, 1.0, 'Sex x Survived = True')"
            ]
          },
          "metadata": {},
          "execution_count": 39
        },
        {
          "output_type": "display_data",
          "data": {
            "text/plain": [
              "<Figure size 432x288 with 1 Axes>"
            ],
            "image/png": "[encoded data removed]"
          },
          "metadata": {}
        }
      ]
    },
    {
      "cell_type": "code",
      "source": [
        "# Proporção de passageiros que sobreviveram e morreram agrupados de acordo com o sexo.\n",
        "sobreviventes = list(titanic_df.groupby(['Sex','Survived'])['Survived'].count()[:,1])\n",
        "mortos = list(titanic_df.groupby(['Sex','Survived'])['Survived'].count()[:,0])\n",
        "labels = ['Women','Men'] \n",
        "\n",
        "proporcao=[]\n",
        "j=0\n",
        "for i in sobreviventes:\n",
        "  proporcao.append(\"{: .0f}%\".format(100*round(i/(i+mortos[j]),2)))\n",
        "  j+=1\n",
        "\n",
        "x = labels\n",
        "width = 0.5\n",
        "\n",
        "fig, ax = plt.subplots()\n",
        "ax.bar(x, sobreviventes, width, label='Survived', color = 'cornflowerblue')\n",
        "ax.bar(x, mortos, width, label='Died', bottom=sobreviventes, color = 'pink')\n",
        "\n",
        "fig.set_figheight(10)\n",
        "fig.set_figwidth(15)\n",
        "ax.set_ylabel('Passengers')\n",
        "ax.set_title('Survived x Sex')\n",
        "ax.set_xticks(x)\n",
        "ax.set_xticklabels(labels)\n",
        "ax.legend()\n",
        "\n",
        "rects = ax.patches\n",
        "labels = proporcao\n",
        "\n",
        "for rect, label in zip(rects, labels):\n",
        "  height = rect.get_height()\n",
        "  ax.text(rect.get_x() + rect.get_width() / 2, height + 15, label, ha=\"center\", va=\"top\")"
      ],
      "metadata": {
        "colab": {
          "base_uri": "https://localhost:8080/",
          "height": 607
        },
        "id": "aQa3hXbfiZId",
        "outputId": "fdd7309a-582e-4840-ef13-a9ecdd360bea"
      },
      "execution_count": 40,
      "outputs": [
        {
          "output_type": "display_data",
          "data": {
            "text/plain": [
              "<Figure size 1080x720 with 1 Axes>"
            ],
            "image/png": "[encoded data removed]"
          },
          "metadata": {}
        }
      ]
    },
    {
      "cell_type": "markdown",
      "source": [
        "###Atributo: Age"
      ],
      "metadata": {
        "id": "vIRdA1CHq8_G"
      }
    },
    {
      "cell_type": "code",
      "source": [
        "# Proporção de passageiros que morreram mediante a idade\n",
        "survived_false = titanic_df.loc[titanic_df['Survived'] == False]\n",
        "\n",
        "sns.histplot(data=survived_false, x='Age', kde=True, color='Orange')\n",
        "\n",
        "plt.xlabel('Age')\n",
        "plt.ylabel('Count')\n",
        "plt.title('Age x Survived = False')\n",
        "\n",
        "plt.show()"
      ],
      "metadata": {
        "colab": {
          "base_uri": "https://localhost:8080/",
          "height": 295
        },
        "id": "MIa0Fk0Zan9a",
        "outputId": "31450744-0198-466c-81fa-f53673960af3"
      },
      "execution_count": 41,
      "outputs": [
        {
          "output_type": "display_data",
          "data": {
            "text/plain": [
              "<Figure size 432x288 with 1 Axes>"
            ],
            "image/png": "[encoded data removed]"
          },
          "metadata": {}
        }
      ]
    },
    {
      "cell_type": "code",
      "source": [
        "# Proporção de passageiros que sobreviveram mediante a idade\n",
        "survived_true = titanic_df.loc[titanic_df['Survived'] == True]\n",
        "\n",
        "sns.histplot(data=survived_true, x='Age', kde=True)\n",
        "\n",
        "plt.xlabel('Age')\n",
        "plt.ylabel('Count')\n",
        "plt.title('Age x Survived = True')\n",
        "\n",
        "plt.show()"
      ],
      "metadata": {
        "colab": {
          "base_uri": "https://localhost:8080/",
          "height": 295
        },
        "id": "ax5qYPK0ZXXs",
        "outputId": "e5d7a37a-7240-41fa-9bc8-17501bcf3c14"
      },
      "execution_count": 42,
      "outputs": [
        {
          "output_type": "display_data",
          "data": {
            "text/plain": [
              "<Figure size 432x288 with 1 Axes>"
            ],
            "image/png": "[encoded data removed]"
          },
          "metadata": {}
        }
      ]
    },
    {
      "cell_type": "markdown",
      "source": [
        "## Tratamento de Dados Faltantes"
      ],
      "metadata": {
        "id": "_-sJ_3X-97Ar"
      }
    },
    {
      "cell_type": "code",
      "source": [
        "# Verificando a média das idades baseadas em Pclass e Treatment Pronouns\n",
        "titanic_df.groupby(['Pclass', 'Treatment pronouns'])['Age'].mean()"
      ],
      "metadata": {
        "colab": {
          "base_uri": "https://localhost:8080/"
        },
        "id": "0rJ29LnmUEHW",
        "outputId": "7417bfbd-7f06-4c97-bc4f-2dd73baba396"
      },
      "execution_count": 44,
      "outputs": [
        {
          "output_type": "execute_result",
          "data": {
            "text/plain": [
              "Pclass  Treatment pronouns\n",
              "1       Capt                  70.00\n",
              "        Col                   58.00\n",
              "        Don                   40.00\n",
              "        Dr                    43.75\n",
              "        Jonkheer              38.00\n",
              "        Lady                  48.00\n",
              "        Major                 48.50\n",
              "        Master                 5.31\n",
              "        Miss                  30.00\n",
              "        Mlle                  24.00\n",
              "        Mme                   24.00\n",
              "        Mr                    41.58\n",
              "        Mrs                   40.88\n",
              "        Ms                      NaN\n",
              "        Rev                     NaN\n",
              "        Sir                   49.00\n",
              "        the Countess          33.00\n",
              "2       Capt                    NaN\n",
              "        Col                     NaN\n",
              "        Don                     NaN\n",
              "        Dr                    38.50\n",
              "        Jonkheer                NaN\n",
              "        Lady                    NaN\n",
              "        Major                   NaN\n",
              "        Master                 2.26\n",
              "        Miss                  22.39\n",
              "        Mlle                    NaN\n",
              "        Mme                     NaN\n",
              "        Mr                    32.77\n",
              "        Mrs                   33.68\n",
              "        Ms                    28.00\n",
              "        Rev                   43.17\n",
              "        Sir                     NaN\n",
              "        the Countess            NaN\n",
              "3       Capt                    NaN\n",
              "        Col                     NaN\n",
              "        Don                     NaN\n",
              "        Dr                      NaN\n",
              "        Jonkheer                NaN\n",
              "        Lady                    NaN\n",
              "        Major                   NaN\n",
              "        Master                 5.35\n",
              "        Miss                  16.12\n",
              "        Mlle                    NaN\n",
              "        Mme                     NaN\n",
              "        Mr                    28.72\n",
              "        Mrs                   33.52\n",
              "        Ms                      NaN\n",
              "        Rev                     NaN\n",
              "        Sir                     NaN\n",
              "        the Countess            NaN\n",
              "Name: Age, dtype: float64"
            ]
          },
          "metadata": {},
          "execution_count": 44
        }
      ]
    },
    {
      "cell_type": "code",
      "source": [
        "#Completando as idades faltantes a partir da média das idades com base em Pclass e Treatment pronouns\n",
        "for i in range(len(titanic_df['Age'])):\n",
        "  pclass = titanic_df['Pclass'].iloc[i]\n",
        "  tp = titanic_df['Treatment pronouns'].iloc[i]\n",
        "  if pd.isnull(titanic_df['Age'].iloc[i]):\n",
        "    titanic_df['Age'].iloc[i] = titanic_df.groupby(['Treatment pronouns','Pclass'])['Age'].mean()[tp,pclass]"
      ],
      "metadata": {
        "colab": {
          "base_uri": "https://localhost:8080/"
        },
        "id": "jZHKr3pIiza0",
        "outputId": "30613fdd-58ab-4750-e184-efc16aec6bec"
      },
      "execution_count": 43,
      "outputs": [
        {
          "output_type": "stream",
          "name": "stderr",
          "text": [
            "/usr/local/lib/python3.8/dist-packages/pandas/core/indexing.py:1732: SettingWithCopyWarning: \n",
            "A value is trying to be set on a copy of a slice from a DataFrame\n",
            "\n",
            "See the caveats in the documentation: https://pandas.pydata.org/pandas-docs/stable/user_guide/indexing.html#returning-a-view-versus-a-copy\n",
            "  self._setitem_single_block(indexer, value, name)\n"
          ]
        }
      ]
    },
    {
      "cell_type": "markdown",
      "source": [
        "## Agrupamento de Idades por Classes"
      ],
      "metadata": {
        "id": "-ReCtvP09x__"
      }
    },
    {
      "cell_type": "code",
      "source": [
        "classes = [0, 5, 10, 18, 29, 100]"
      ],
      "metadata": {
        "id": "CrUG4Aqiq_Uo"
      },
      "execution_count": 45,
      "outputs": []
    },
    {
      "cell_type": "code",
      "source": [
        "labels = ['Baby', 'Children', 'Young', 'Adults', 'Aged']"
      ],
      "metadata": {
        "id": "hlm7v7bNsJTR"
      },
      "execution_count": 46,
      "outputs": []
    },
    {
      "cell_type": "code",
      "source": [
        "classes = pd.cut(x=titanic_df.Age, bins=classes, labels=labels)"
      ],
      "metadata": {
        "id": "G9wdHy8Jt3r1"
      },
      "execution_count": 47,
      "outputs": []
    },
    {
      "cell_type": "code",
      "source": [
        "titanic_df['Age'] = classes\n",
        "titanic_df.head()"
      ],
      "metadata": {
        "colab": {
          "base_uri": "https://localhost:8080/",
          "height": 206
        },
        "id": "qmql9Y2nuCS8",
        "outputId": "ce4e695a-43a9-429c-ee50-9c6967bb72e4"
      },
      "execution_count": 48,
      "outputs": [
        {
          "output_type": "execute_result",
          "data": {
            "text/plain": [
              "   Survived Pclass     Sex     Age  SibSp  Parch   Fare Cabin Embarked  \\\n",
              "0     False      3    male  adults      1      0   7.25   NaN        S   \n",
              "1      True      1  female    aged      1      0  71.28   C85        C   \n",
              "2      True      3  female  adults      0      0   7.92   NaN        S   \n",
              "3      True      1  female    aged      1      0  53.10  C123        S   \n",
              "4     False      3    male    aged      0      0   8.05   NaN        S   \n",
              "\n",
              "  Treatment pronouns  Relatives  \n",
              "0                 Mr       True  \n",
              "1                Mrs       True  \n",
              "2               Miss      False  \n",
              "3                Mrs       True  \n",
              "4                 Mr      False  "
            ],
            "text/html": [
              "\n",
              "  <div id=\"df-baabebfb-e956-4200-ae68-741849722571\">\n",
              "    <div class=\"colab-df-container\">\n",
              "      <div>\n",
              "<style scoped>\n",
              "    .dataframe tbody tr th:only-of-type {\n",
              "        vertical-align: middle;\n",
              "    }\n",
              "\n",
              "    .dataframe tbody tr th {\n",
              "        vertical-align: top;\n",
              "    }\n",
              "\n",
              "    .dataframe thead th {\n",
              "        text-align: right;\n",
              "    }\n",
              "</style>\n",
              "<table border=\"1\" class=\"dataframe\">\n",
              "  <thead>\n",
              "    <tr style=\"text-align: right;\">\n",
              "      <th></th>\n",
              "      <th>Survived</th>\n",
              "      <th>Pclass</th>\n",
              "      <th>Sex</th>\n",
              "      <th>Age</th>\n",
              "      <th>SibSp</th>\n",
              "      <th>Parch</th>\n",
              "      <th>Fare</th>\n",
              "      <th>Cabin</th>\n",
              "      <th>Embarked</th>\n",
              "      <th>Treatment pronouns</th>\n",
              "      <th>Relatives</th>\n",
              "    </tr>\n",
              "  </thead>\n",
              "  <tbody>\n",
              "    <tr>\n",
              "      <th>0</th>\n",
              "      <td>False</td>\n",
              "      <td>3</td>\n",
              "      <td>male</td>\n",
              "      <td>adults</td>\n",
              "      <td>1</td>\n",
              "      <td>0</td>\n",
              "      <td>7.25</td>\n",
              "      <td>NaN</td>\n",
              "      <td>S</td>\n",
              "      <td>Mr</td>\n",
              "      <td>True</td>\n",
              "    </tr>\n",
              "    <tr>\n",
              "      <th>1</th>\n",
              "      <td>True</td>\n",
              "      <td>1</td>\n",
              "      <td>female</td>\n",
              "      <td>aged</td>\n",
              "      <td>1</td>\n",
              "      <td>0</td>\n",
              "      <td>71.28</td>\n",
              "      <td>C85</td>\n",
              "      <td>C</td>\n",
              "      <td>Mrs</td>\n",
              "      <td>True</td>\n",
              "    </tr>\n",
              "    <tr>\n",
              "      <th>2</th>\n",
              "      <td>True</td>\n",
              "      <td>3</td>\n",
              "      <td>female</td>\n",
              "      <td>adults</td>\n",
              "      <td>0</td>\n",
              "      <td>0</td>\n",
              "      <td>7.92</td>\n",
              "      <td>NaN</td>\n",
              "      <td>S</td>\n",
              "      <td>Miss</td>\n",
              "      <td>False</td>\n",
              "    </tr>\n",
              "    <tr>\n",
              "      <th>3</th>\n",
              "      <td>True</td>\n",
              "      <td>1</td>\n",
              "      <td>female</td>\n",
              "      <td>aged</td>\n",
              "      <td>1</td>\n",
              "      <td>0</td>\n",
              "      <td>53.10</td>\n",
              "      <td>C123</td>\n",
              "      <td>S</td>\n",
              "      <td>Mrs</td>\n",
              "      <td>True</td>\n",
              "    </tr>\n",
              "    <tr>\n",
              "      <th>4</th>\n",
              "      <td>False</td>\n",
              "      <td>3</td>\n",
              "      <td>male</td>\n",
              "      <td>aged</td>\n",
              "      <td>0</td>\n",
              "      <td>0</td>\n",
              "      <td>8.05</td>\n",
              "      <td>NaN</td>\n",
              "      <td>S</td>\n",
              "      <td>Mr</td>\n",
              "      <td>False</td>\n",
              "    </tr>\n",
              "  </tbody>\n",
              "</table>\n",
              "</div>\n",
              "      <button class=\"colab-df-convert\" onclick=\"convertToInteractive('df-baabebfb-e956-4200-ae68-741849722571')\"\n",
              "              title=\"Convert this dataframe to an interactive table.\"\n",
              "              style=\"display:none;\">\n",
              "        \n",
              "  <svg xmlns=\"http://www.w3.org/2000/svg\" height=\"24px\"viewBox=\"0 0 24 24\"\n",
              "       width=\"24px\">\n",
              "    <path d=\"M0 0h24v24H0V0z\" fill=\"none\"/>\n",
              "    <path d=\"M18.56 5.44l.94 2.06.94-2.06 2.06-.94-2.06-.94-.94-2.06-.94 2.06-2.06.94zm-11 1L8.5 8.5l.94-2.06 2.06-.94-2.06-.94L8.5 2.5l-.94 2.06-2.06.94zm10 10l.94 2.06.94-2.06 2.06-.94-2.06-.94-.94-2.06-.94 2.06-2.06.94z\"/><path d=\"M17.41 7.96l-1.37-1.37c-.4-.4-.92-.59-1.43-.59-.52 0-1.04.2-1.43.59L10.3 9.45l-7.72 7.72c-.78.78-.78 2.05 0 2.83L4 21.41c.39.39.9.59 1.41.59.51 0 1.02-.2 1.41-.59l7.78-7.78 2.81-2.81c.8-.78.8-2.07 0-2.86zM5.41 20L4 18.59l7.72-7.72 1.47 1.35L5.41 20z\"/>\n",
              "  </svg>\n",
              "      </button>\n",
              "      \n",
              "  <style>\n",
              "    .colab-df-container {\n",
              "      display:flex;\n",
              "      flex-wrap:wrap;\n",
              "      gap: 12px;\n",
              "    }\n",
              "\n",
              "    .colab-df-convert {\n",
              "      background-color: #E8F0FE;\n",
              "      border: none;\n",
              "      border-radius: 50%;\n",
              "      cursor: pointer;\n",
              "      display: none;\n",
              "      fill: #1967D2;\n",
              "      height: 32px;\n",
              "      padding: 0 0 0 0;\n",
              "      width: 32px;\n",
              "    }\n",
              "\n",
              "    .colab-df-convert:hover {\n",
              "      background-color: #E2EBFA;\n",
              "      box-shadow: 0px 1px 2px rgba(60, 64, 67, 0.3), 0px 1px 3px 1px rgba(60, 64, 67, 0.15);\n",
              "      fill: #174EA6;\n",
              "    }\n",
              "\n",
              "    [theme=dark] .colab-df-convert {\n",
              "      background-color: #3B4455;\n",
              "      fill: #D2E3FC;\n",
              "    }\n",
              "\n",
              "    [theme=dark] .colab-df-convert:hover {\n",
              "      background-color: #434B5C;\n",
              "      box-shadow: 0px 1px 3px 1px rgba(0, 0, 0, 0.15);\n",
              "      filter: drop-shadow(0px 1px 2px rgba(0, 0, 0, 0.3));\n",
              "      fill: #FFFFFF;\n",
              "    }\n",
              "  </style>\n",
              "\n",
              "      <script>\n",
              "        const buttonEl =\n",
              "          document.querySelector('#df-baabebfb-e956-4200-ae68-741849722571 button.colab-df-convert');\n",
              "        buttonEl.style.display =\n",
              "          google.colab.kernel.accessAllowed ? 'block' : 'none';\n",
              "\n",
              "        async function convertToInteractive(key) {\n",
              "          const element = document.querySelector('#df-baabebfb-e956-4200-ae68-741849722571');\n",
              "          const dataTable =\n",
              "            await google.colab.kernel.invokeFunction('convertToInteractive',\n",
              "                                                     [key], {});\n",
              "          if (!dataTable) return;\n",
              "\n",
              "          const docLinkHtml = 'Like what you see? Visit the ' +\n",
              "            '<a target=\"_blank\" href=https://colab.research.google.com/notebooks/data_table.ipynb>data table notebook</a>'\n",
              "            + ' to learn more about interactive tables.';\n",
              "          element.innerHTML = '';\n",
              "          dataTable['output_type'] = 'display_data';\n",
              "          await google.colab.output.renderOutput(dataTable, element);\n",
              "          const docLink = document.createElement('div');\n",
              "          docLink.innerHTML = docLinkHtml;\n",
              "          element.appendChild(docLink);\n",
              "        }\n",
              "      </script>\n",
              "    </div>\n",
              "  </div>\n",
              "  "
            ]
          },
          "metadata": {},
          "execution_count": 48
        }
      ]
    },
    {
      "cell_type": "code",
      "source": [
        "pd.value_counts(titanic_df.Age)"
      ],
      "metadata": {
        "colab": {
          "base_uri": "https://localhost:8080/"
        },
        "id": "TU1GVUjY3gr7",
        "outputId": "689cea94-0878-4893-bb5d-4c7ec95c809f"
      },
      "execution_count": 49,
      "outputs": [
        {
          "output_type": "execute_result",
          "data": {
            "text/plain": [
              "aged        378\n",
              "adults      337\n",
              "young       108\n",
              "baby         44\n",
              "children     24\n",
              "Name: Age, dtype: int64"
            ]
          },
          "metadata": {},
          "execution_count": 49
        }
      ]
    },
    {
      "cell_type": "code",
      "source": [
        "# Proporção de Sobreviventes baseados na Categorização das Idades\n",
        "ax = sns.barplot(data=titanic_df, x=\"Age\", y=\"Survived\", ci=None)\n",
        "ax.yaxis.set_major_formatter(FuncFormatter(to_percent))\n",
        "\n",
        "plt.title('Age x Survived = True')"
      ],
      "metadata": {
        "colab": {
          "base_uri": "https://localhost:8080/",
          "height": 312
        },
        "id": "0rnYX6rCuWIk",
        "outputId": "cecc6be6-cc5d-4fe9-855f-ab9fcde4e246"
      },
      "execution_count": 59,
      "outputs": [
        {
          "output_type": "execute_result",
          "data": {
            "text/plain": [
              "Text(0.5, 1.0, 'Age x Survived = True')"
            ]
          },
          "metadata": {},
          "execution_count": 59
        },
        {
          "output_type": "display_data",
          "data": {
            "text/plain": [
              "<Figure size 432x288 with 1 Axes>"
            ],
            "image/png": "[encoded data removed]"
          },
          "metadata": {}
        }
      ]
    },
    {
      "cell_type": "code",
      "source": [
        "# Proporção de Sobreviventes e Mortos baseados na Categorização das Idades\n",
        "sobreviventes = list(titanic_df.groupby(['Age','Survived'])['Survived'].count()[:,1])\n",
        "mortos = list(titanic_df.groupby(['Age','Survived'])['Survived'].count()[:,0])\n",
        "labels = ['baby', 'children', 'young', 'adults', 'aged']\n",
        "\n",
        "proporcao=[]\n",
        "j=0\n",
        "for i in sobreviventes:\n",
        "  proporcao.append(\"{: .0f}%\".format(100*round(i/(i+mortos[j]),2)))\n",
        "  j+=1\n",
        "\n",
        "x = labels #np.arange(len(labels))  # posições em x\n",
        "width = 0.5  # largura das barras\n",
        "\n",
        "fig, ax = plt.subplots()\n",
        "ax.bar(x, sobreviventes, width, label='Survived', color = 'cornflowerblue')\n",
        "ax.bar(x, mortos, width, label='Died', bottom=sobreviventes, color = 'pink')\n",
        "\n",
        "fig.set_figheight(10)\n",
        "fig.set_figwidth(15)\n",
        "ax.set_ylabel('Passengers')\n",
        "ax.set_title('Survived x Age')\n",
        "ax.set_xticks(x)\n",
        "ax.set_xticklabels(labels)\n",
        "ax.legend()\n",
        "\n",
        "rects = ax.patches\n",
        "labels = proporcao#[f\"label{i}\" for i in range(len(rects))]\n",
        "\n",
        "for rect, label in zip(rects, labels):\n",
        "  height = rect.get_height()\n",
        "  ax.text(rect.get_x() + rect.get_width() / 2, height + 15, label, ha=\"center\", va=\"top\")"
      ],
      "metadata": {
        "colab": {
          "base_uri": "https://localhost:8080/",
          "height": 607
        },
        "id": "BWl55x2dmuAr",
        "outputId": "5335fdd1-bfd7-4ebc-f459-4d6cf58cffc3"
      },
      "execution_count": 51,
      "outputs": [
        {
          "output_type": "display_data",
          "data": {
            "text/plain": [
              "<Figure size 1080x720 with 1 Axes>"
            ],
            "image/png": "[encoded data removed]"
          },
          "metadata": {}
        }
      ]
    },
    {
      "cell_type": "markdown",
      "source": [
        "### Atributo: Fare"
      ],
      "metadata": {
        "id": "AGyVKevu-fmF"
      }
    },
    {
      "cell_type": "code",
      "source": [
        "titanic_df['Fare'] = pd.cut(titanic_df['Fare'], bins=[0, 8, 15, 30, 50, 100], labels=[1,2,3,4,5])"
      ],
      "metadata": {
        "id": "uWXPXf1bpsox"
      },
      "execution_count": 52,
      "outputs": []
    },
    {
      "cell_type": "code",
      "source": [
        "# Proporção de Sobreviventes e Mortos baseados nos valores pagos.\n",
        "sobreviventes = list(titanic_df.groupby(['Survived','Fare'])['Survived'].count()[1])\n",
        "mortos = list(titanic_df.groupby(['Survived','Fare'])['Survived'].count()[0])\n",
        "labels = ['>\\$0 e <\\$8','>\\$8 e <\\$15','>\\$15 e <\\$30','>\\$30 e <\\$50','>\\$100']\n",
        "\n",
        "proporcao=[]\n",
        "j=0\n",
        "for i in sobreviventes:\n",
        "  proporcao.append(\"{: .0f}%\".format(100*round(i/(i+mortos[j]),2)))\n",
        "  j+=1\n",
        "\n",
        "x = labels\n",
        "width = 0.5\n",
        "\n",
        "fig, ax = plt.subplots()\n",
        "ax.bar(x, sobreviventes, width, label='Survived', color = 'cornflowerblue')\n",
        "ax.bar(x, mortos, width, label='Died', bottom=sobreviventes, color = 'pink')\n",
        "\n",
        "fig.set_figheight(10)\n",
        "fig.set_figwidth(15)\n",
        "ax.set_ylabel('Passengers')\n",
        "ax.set_title('Survived x Fare')\n",
        "ax.set_xticks(x)\n",
        "ax.set_xticklabels(labels)\n",
        "ax.legend()\n",
        "\n",
        "rects = ax.patches\n",
        "labels = proporcao#[f\"label{i}\" for i in range(len(rects))]\n",
        "\n",
        "for rect, label in zip(rects, labels):\n",
        "  height = rect.get_height()\n",
        "  ax.text(rect.get_x() + rect.get_width() / 2, height + 5, label, ha=\"center\", va=\"top\")"
      ],
      "metadata": {
        "colab": {
          "base_uri": "https://localhost:8080/",
          "height": 607
        },
        "id": "bjVvQKADp8-1",
        "outputId": "9062d5c1-9b40-45df-ef8c-19e9e5f1a233"
      },
      "execution_count": 53,
      "outputs": [
        {
          "output_type": "display_data",
          "data": {
            "text/plain": [
              "<Figure size 1080x720 with 1 Axes>"
            ],
            "image/png": "[encoded data removed]"
          },
          "metadata": {}
        }
      ]
    },
    {
      "cell_type": "markdown",
      "source": [
        "###Atributo: Deck"
      ],
      "metadata": {
        "id": "94kr33Rw-4cW"
      }
    },
    {
      "cell_type": "code",
      "source": [
        "#Derivação\n",
        "titanic_df.insert(10, 'Deck', np.nan)\n",
        "titanic_df['Deck'] = titanic_df['Cabin'].dropna().apply (lambda x: x[0])"
      ],
      "metadata": {
        "id": "zM_C6fvSq_o7"
      },
      "execution_count": 54,
      "outputs": []
    },
    {
      "cell_type": "code",
      "source": [
        "titanic_df['Deck'].unique()"
      ],
      "metadata": {
        "colab": {
          "base_uri": "https://localhost:8080/"
        },
        "id": "kAPr0Jo3sJju",
        "outputId": "8d970465-3b98-4a82-e649-55bcaddf28c0"
      },
      "execution_count": 55,
      "outputs": [
        {
          "output_type": "execute_result",
          "data": {
            "text/plain": [
              "array([nan, 'C', 'E', 'G', 'D', 'A', 'B', 'F', 'T'], dtype=object)"
            ]
          },
          "metadata": {},
          "execution_count": 55
        }
      ]
    },
    {
      "cell_type": "code",
      "source": [
        "titanic_df['Deck'].value_counts()"
      ],
      "metadata": {
        "colab": {
          "base_uri": "https://localhost:8080/"
        },
        "id": "rKYmulgLwtF-",
        "outputId": "776a55df-c639-4ec0-c6dd-91de263d550e"
      },
      "execution_count": 56,
      "outputs": [
        {
          "output_type": "execute_result",
          "data": {
            "text/plain": [
              "C    59\n",
              "B    47\n",
              "D    33\n",
              "E    32\n",
              "A    15\n",
              "F    13\n",
              "G     4\n",
              "T     1\n",
              "Name: Deck, dtype: int64"
            ]
          },
          "metadata": {},
          "execution_count": 56
        }
      ]
    },
    {
      "cell_type": "code",
      "source": [
        "# Por T apresentar somente 1 dado, atribuiu-se np.nan\n",
        "titanic_df.loc[titanic_df.Deck=='T','Deck'] = np.nan"
      ],
      "metadata": {
        "id": "SSyc7WWzsh0g"
      },
      "execution_count": 57,
      "outputs": []
    },
    {
      "cell_type": "code",
      "source": [
        "# Proporção de sobreviventes e mortos baseados no Deck em que estavam alocados.\n",
        "sobreviventes = list(titanic_df.groupby(['Survived','Deck'])['Survived'].count()[1])\n",
        "mortos = list(titanic_df.groupby(['Survived','Deck'])['Survived'].count()[0])\n",
        "labels = ['A','B','C','D','E','F','G']\n",
        "\n",
        "proporcao=[]\n",
        "j=0\n",
        "for i in sobreviventes:\n",
        "  proporcao.append(\"{: .0f}%\".format(100*round(i/(i+mortos[j]),2)))\n",
        "  j+=1\n",
        "\n",
        "x = labels\n",
        "width = 0.5\n",
        "\n",
        "fig, ax = plt.subplots()\n",
        "ax.bar(x, sobreviventes, width, label='Survived', color = 'cornflowerblue')\n",
        "ax.bar(x, mortos, width, label='Died', bottom=sobreviventes, color = 'pink')\n",
        "\n",
        "fig.set_figheight(10)\n",
        "fig.set_figwidth(15)\n",
        "ax.set_ylabel('Passengers')\n",
        "ax.set_title('Survived x Deck')\n",
        "ax.set_xticks(x)\n",
        "ax.set_xticklabels(labels)\n",
        "ax.legend()\n",
        "\n",
        "rects = ax.patches\n",
        "labels = proporcao#[f\"label{i}\" for i in range(len(rects))]\n",
        "\n",
        "for rect, label in zip(rects, labels):\n",
        "  height = rect.get_height()\n",
        "  ax.text(rect.get_x() + rect.get_width() / 2, height + 2, label, ha=\"center\", va=\"top\")"
      ],
      "metadata": {
        "colab": {
          "base_uri": "https://localhost:8080/",
          "height": 607
        },
        "id": "iGFEor_CrnWy",
        "outputId": "593fa180-f00b-4f9e-8512-263212947999"
      },
      "execution_count": 58,
      "outputs": [
        {
          "output_type": "display_data",
          "data": {
            "text/plain": [
              "<Figure size 1080x720 with 1 Axes>"
            ],
            "image/png": "[encoded data removed]"
          },
          "metadata": {}
        }
      ]
    },
    {
      "cell_type": "markdown",
      "source": [
        "Da análise do dataset titanic_train.csv, podemos inferir algumas considerações:\n",
        "\n",
        "- Há uma quantidade razoável de dados de Idade faltantes (20%) e uma quantidade alta de dados de Cabine faltantes (77%).\n",
        "\n",
        "- Do total de 891 induvíduos do dataset, 314 são mulheres e 577 homens.\n",
        "\n",
        "- A taxa de sobreviventes é de aproximadamente 38%, sendo a maioria mulheres.\n",
        "\n",
        "- A proporção de mulheres sobreviventes é maior que a dos homens (74% e 19%), respectivamente.\n",
        "\n",
        "- Com relação à faixa etária, a prevalência é de sobreviventes crianças pequenas e bebês (< 5 anos) e mulheres acima dos 12 anos.\n",
        "\n",
        "- É possível perceber também um equilíbrio proporcional entre sobreviventes e mortos na faixa etária de 20 a 30 anos.\n",
        "\n",
        "- Passageiros com parentes a bordo tiveram mais chances de sobrevivência.\n",
        "\n",
        "- Quanto mais alto o valor da tarifa, por consequência, a classe, maior a proporção de sobreviventes.\n",
        "\n",
        "- Passageiros que embarcaram em Cherbourg foram os que mais tiveram chances de sobreviver, enquanto os que embarcaram em Southampton não.\n",
        "\n",
        "- Passageiros que estavam na 1ª classe foram os que mais sobreviveram em relação aos passageiros de 2ª e 3ª classe.\n",
        "\n",
        "- Passageiros que estavam nos decks B e C foram os que mais tiveram chances de sobrevivência.\n",
        "\n",
        "- Passageiros que pagaram entre $15 e $30 e mais que $100 tiveram mais chances de sobrevivência."
      ],
      "metadata": {
        "id": "ZumVsqz_qbHu"
      }
    }
  ]
}